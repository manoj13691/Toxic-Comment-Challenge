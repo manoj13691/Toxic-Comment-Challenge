{
 "cells": [
  {
   "cell_type": "code",
   "execution_count": 14,
   "metadata": {
    "collapsed": true
   },
   "outputs": [],
   "source": [
    "import pandas as pd\n",
    "from sklearn.metrics import log_loss\n",
    "from sklearn.ensemble import RandomForestClassifier\n",
    "from sklearn.metrics import confusion_matrix, accuracy_score\n",
    "from sklearn.linear_model import LogisticRegression\n",
    "train_file = \"train.csv\"\n",
    "test_file = \"test.csv\""
   ]
  },
  {
   "cell_type": "code",
   "execution_count": 2,
   "metadata": {},
   "outputs": [
    {
     "data": {
      "text/html": [
       "<div>\n",
       "<style scoped>\n",
       "    .dataframe tbody tr th:only-of-type {\n",
       "        vertical-align: middle;\n",
       "    }\n",
       "\n",
       "    .dataframe tbody tr th {\n",
       "        vertical-align: top;\n",
       "    }\n",
       "\n",
       "    .dataframe thead th {\n",
       "        text-align: right;\n",
       "    }\n",
       "</style>\n",
       "<table border=\"1\" class=\"dataframe\">\n",
       "  <thead>\n",
       "    <tr style=\"text-align: right;\">\n",
       "      <th></th>\n",
       "      <th>id</th>\n",
       "      <th>comment_text</th>\n",
       "      <th>toxic</th>\n",
       "      <th>severe_toxic</th>\n",
       "      <th>obscene</th>\n",
       "      <th>threat</th>\n",
       "      <th>insult</th>\n",
       "      <th>identity_hate</th>\n",
       "    </tr>\n",
       "  </thead>\n",
       "  <tbody>\n",
       "    <tr>\n",
       "      <th>0</th>\n",
       "      <td>0000997932d777bf</td>\n",
       "      <td>Explanation\\nWhy the edits made under my usern...</td>\n",
       "      <td>0</td>\n",
       "      <td>0</td>\n",
       "      <td>0</td>\n",
       "      <td>0</td>\n",
       "      <td>0</td>\n",
       "      <td>0</td>\n",
       "    </tr>\n",
       "    <tr>\n",
       "      <th>1</th>\n",
       "      <td>000103f0d9cfb60f</td>\n",
       "      <td>D'aww! He matches this background colour I'm s...</td>\n",
       "      <td>0</td>\n",
       "      <td>0</td>\n",
       "      <td>0</td>\n",
       "      <td>0</td>\n",
       "      <td>0</td>\n",
       "      <td>0</td>\n",
       "    </tr>\n",
       "    <tr>\n",
       "      <th>2</th>\n",
       "      <td>000113f07ec002fd</td>\n",
       "      <td>Hey man, I'm really not trying to edit war. It...</td>\n",
       "      <td>0</td>\n",
       "      <td>0</td>\n",
       "      <td>0</td>\n",
       "      <td>0</td>\n",
       "      <td>0</td>\n",
       "      <td>0</td>\n",
       "    </tr>\n",
       "    <tr>\n",
       "      <th>3</th>\n",
       "      <td>0001b41b1c6bb37e</td>\n",
       "      <td>\"\\nMore\\nI can't make any real suggestions on ...</td>\n",
       "      <td>0</td>\n",
       "      <td>0</td>\n",
       "      <td>0</td>\n",
       "      <td>0</td>\n",
       "      <td>0</td>\n",
       "      <td>0</td>\n",
       "    </tr>\n",
       "    <tr>\n",
       "      <th>4</th>\n",
       "      <td>0001d958c54c6e35</td>\n",
       "      <td>You, sir, are my hero. Any chance you remember...</td>\n",
       "      <td>0</td>\n",
       "      <td>0</td>\n",
       "      <td>0</td>\n",
       "      <td>0</td>\n",
       "      <td>0</td>\n",
       "      <td>0</td>\n",
       "    </tr>\n",
       "  </tbody>\n",
       "</table>\n",
       "</div>"
      ],
      "text/plain": [
       "                 id                                       comment_text  toxic  \\\n",
       "0  0000997932d777bf  Explanation\\nWhy the edits made under my usern...      0   \n",
       "1  000103f0d9cfb60f  D'aww! He matches this background colour I'm s...      0   \n",
       "2  000113f07ec002fd  Hey man, I'm really not trying to edit war. It...      0   \n",
       "3  0001b41b1c6bb37e  \"\\nMore\\nI can't make any real suggestions on ...      0   \n",
       "4  0001d958c54c6e35  You, sir, are my hero. Any chance you remember...      0   \n",
       "\n",
       "   severe_toxic  obscene  threat  insult  identity_hate  \n",
       "0             0        0       0       0              0  \n",
       "1             0        0       0       0              0  \n",
       "2             0        0       0       0              0  \n",
       "3             0        0       0       0              0  \n",
       "4             0        0       0       0              0  "
      ]
     },
     "execution_count": 2,
     "metadata": {},
     "output_type": "execute_result"
    }
   ],
   "source": [
    "data = pd.read_csv(filename, header=0)\n",
    "data.head(5)"
   ]
  },
  {
   "cell_type": "code",
   "execution_count": 3,
   "metadata": {},
   "outputs": [
    {
     "name": "stdout",
     "output_type": "stream",
     "text": [
      "The number of features after applying TF-IDF are:\n",
      "52471\n",
      "The shape of the data is:\n",
      "(159571, 52471)\n",
      "Ten sample features are:\n"
     ]
    },
    {
     "data": {
      "text/plain": [
       "['00',\n",
       " '000',\n",
       " '0000',\n",
       " '000000',\n",
       " '0000z',\n",
       " '0001',\n",
       " '0003',\n",
       " '000th',\n",
       " '001',\n",
       " '0015']"
      ]
     },
     "execution_count": 3,
     "metadata": {},
     "output_type": "execute_result"
    }
   ],
   "source": [
    "from sklearn.feature_extraction.text import TfidfVectorizer\n",
    "# https://stackoverflow.com/questions/27697766/understanding-min-df-and-max-df-in-scikit-countvectorizer\n",
    "# Above reference is for understanding the parameters of tf-idf.\n",
    "\n",
    "tf = TfidfVectorizer(analyzer='word',lowercase=True, min_df = 3,max_df = 0.9,\n",
    "                     strip_accents='unicode', stop_words = 'english', sublinear_tf=1)\n",
    "\n",
    "X =  tf.fit_transform(data[\"comment_text\"])\n",
    "print(\"The number of features after applying TF-IDF are:\")\n",
    "print(len(tf.get_feature_names()))\n",
    "print(\"The shape of the data is:\")\n",
    "print(X.shape)\n",
    "print(\"Ten sample features are:\")\n",
    "tf.get_feature_names()[:10]"
   ]
  },
  {
   "cell_type": "code",
   "execution_count": 26,
   "metadata": {},
   "outputs": [
    {
     "data": {
      "text/html": [
       "<div>\n",
       "<style scoped>\n",
       "    .dataframe tbody tr th:only-of-type {\n",
       "        vertical-align: middle;\n",
       "    }\n",
       "\n",
       "    .dataframe tbody tr th {\n",
       "        vertical-align: top;\n",
       "    }\n",
       "\n",
       "    .dataframe thead th {\n",
       "        text-align: right;\n",
       "    }\n",
       "</style>\n",
       "<table border=\"1\" class=\"dataframe\">\n",
       "  <thead>\n",
       "    <tr style=\"text-align: right;\">\n",
       "      <th></th>\n",
       "      <th>id</th>\n",
       "      <th>comment_text</th>\n",
       "    </tr>\n",
       "  </thead>\n",
       "  <tbody>\n",
       "    <tr>\n",
       "      <th>153159</th>\n",
       "      <td>fffcd0960ee309b5</td>\n",
       "      <td>. \\n i totally agree, this stuff is nothing bu...</td>\n",
       "    </tr>\n",
       "    <tr>\n",
       "      <th>153160</th>\n",
       "      <td>fffd7a9a6eb32c16</td>\n",
       "      <td>== Throw from out field to home plate. == \\n\\n...</td>\n",
       "    </tr>\n",
       "    <tr>\n",
       "      <th>153161</th>\n",
       "      <td>fffda9e8d6fafa9e</td>\n",
       "      <td>\" \\n\\n == Okinotorishima categories == \\n\\n I ...</td>\n",
       "    </tr>\n",
       "    <tr>\n",
       "      <th>153162</th>\n",
       "      <td>fffe8f1340a79fc2</td>\n",
       "      <td>\" \\n\\n == \"\"One of the founding nations of the...</td>\n",
       "    </tr>\n",
       "    <tr>\n",
       "      <th>153163</th>\n",
       "      <td>ffffce3fb183ee80</td>\n",
       "      <td>\" \\n :::Stop already. Your bullshit is not wel...</td>\n",
       "    </tr>\n",
       "  </tbody>\n",
       "</table>\n",
       "</div>"
      ],
      "text/plain": [
       "                      id                                       comment_text\n",
       "153159  fffcd0960ee309b5  . \\n i totally agree, this stuff is nothing bu...\n",
       "153160  fffd7a9a6eb32c16  == Throw from out field to home plate. == \\n\\n...\n",
       "153161  fffda9e8d6fafa9e  \" \\n\\n == Okinotorishima categories == \\n\\n I ...\n",
       "153162  fffe8f1340a79fc2  \" \\n\\n == \"\"One of the founding nations of the...\n",
       "153163  ffffce3fb183ee80  \" \\n :::Stop already. Your bullshit is not wel..."
      ]
     },
     "execution_count": 26,
     "metadata": {},
     "output_type": "execute_result"
    }
   ],
   "source": [
    "# Read the test file\n",
    "test_data = pd.read_csv(test_file)\n",
    "test_data.tail(5)"
   ]
  },
  {
   "cell_type": "code",
   "execution_count": 17,
   "metadata": {},
   "outputs": [
    {
     "name": "stdout",
     "output_type": "stream",
     "text": [
      "(153164, 52471)\n"
     ]
    }
   ],
   "source": [
    "X_test = tf.transform(test_data[\"comment_text\"])\n",
    "print(X_test.shape)"
   ]
  },
  {
   "cell_type": "code",
   "execution_count": 18,
   "metadata": {},
   "outputs": [
    {
     "name": "stderr",
     "output_type": "stream",
     "text": [
      "/home/manoj/.local/lib/python3.5/site-packages/sklearn/linear_model/logistic.py:432: FutureWarning: Default solver will be changed to 'lbfgs' in 0.22. Specify a solver to silence this warning.\n",
      "  FutureWarning)\n"
     ]
    },
    {
     "name": "stdout",
     "output_type": "stream",
     "text": [
      "Log Loss: 0.07356333255173401\n",
      "Accuracy: 97.22\n"
     ]
    },
    {
     "data": {
      "text/plain": [
       "array([[143570,    707],\n",
       "       [  3730,  11564]])"
      ]
     },
     "execution_count": 18,
     "metadata": {},
     "output_type": "execute_result"
    }
   ],
   "source": [
    "# Predictions for toxic  using Logistic\n",
    "clf = LogisticRegression(C=4, dual=False)\n",
    "toxic_labels = list(data[\"toxic\"])\n",
    "clf.fit(X, toxic_labels)\n",
    "ans_probs = clf.predict_proba(X)\n",
    "predictions = clf.predict(X)\n",
    "print(\"Log Loss: \"+str(log_loss(toxic_labels, ans_probs)))\n",
    "accuracy = round(accuracy_score(toxic_labels, predictions) *100,2)\n",
    "print(\"Accuracy: \"+str(accuracy))\n",
    "confusion_matrix(toxic_labels, predictions)"
   ]
  },
  {
   "cell_type": "code",
   "execution_count": 27,
   "metadata": {
    "collapsed": true
   },
   "outputs": [],
   "source": [
    "toxic_test = clf.predict_proba(X_test)"
   ]
  },
  {
   "cell_type": "code",
   "execution_count": 31,
   "metadata": {},
   "outputs": [],
   "source": [
    "test_data[\"toxic\"] = pd.Series(toxic_test[:,1])"
   ]
  },
  {
   "cell_type": "code",
   "execution_count": 13,
   "metadata": {},
   "outputs": [
    {
     "name": "stdout",
     "output_type": "stream",
     "text": [
      "Log Loss: 0.27844885164676864\n",
      "Accuracy: 90.42\n"
     ]
    },
    {
     "data": {
      "text/plain": [
       "array([[144277,      0],\n",
       "       [ 15294,      0]])"
      ]
     },
     "execution_count": 13,
     "metadata": {},
     "output_type": "execute_result"
    }
   ],
   "source": [
    "# Predictions for toxic using RF\n",
    "clf = RandomForestClassifier(n_estimators=100, max_depth=10,random_state=0)\n",
    "toxic_labels = list(data[\"toxic\"])\n",
    "clf.fit(X, toxic_labels)\n",
    "ans_probs = clf.predict_proba(X)\n",
    "predictions = clf.predict(X)\n",
    "print(\"Log Loss: \"+str(log_loss(toxic_labels, ans_probs)))\n",
    "accuracy = round(accuracy_score(toxic_labels, predictions) *100,2)\n",
    "print(\"Accuracy: \"+str(accuracy))\n",
    "confusion_matrix(toxic_labels, predictions)"
   ]
  },
  {
   "cell_type": "code",
   "execution_count": 34,
   "metadata": {},
   "outputs": [
    {
     "name": "stderr",
     "output_type": "stream",
     "text": [
      "/home/manoj/.local/lib/python3.5/site-packages/sklearn/linear_model/logistic.py:432: FutureWarning: Default solver will be changed to 'lbfgs' in 0.22. Specify a solver to silence this warning.\n",
      "  FutureWarning)\n"
     ]
    },
    {
     "name": "stdout",
     "output_type": "stream",
     "text": [
      "Log Loss: 0.017566363766751688\n",
      "Accuracy: 99.23\n"
     ]
    },
    {
     "data": {
      "text/plain": [
       "array([[157738,    238],\n",
       "       [   984,    611]])"
      ]
     },
     "execution_count": 34,
     "metadata": {},
     "output_type": "execute_result"
    }
   ],
   "source": [
    "# Predictions for severe_toxic using Logistic Regression\n",
    "clf = LogisticRegression(C=4, dual=False)\n",
    "severe_toxic_labels = list(data[\"severe_toxic\"])\n",
    "clf.fit(X, severe_toxic_labels)\n",
    "ans_probs = clf.predict_proba(X)\n",
    "predictions = clf.predict(X)\n",
    "print(\"Log Loss: \"+str(log_loss(severe_toxic_labels, ans_probs)))\n",
    "accuracy = round(accuracy_score(severe_toxic_labels, predictions) *100,2)\n",
    "print(\"Accuracy: \"+str(accuracy))\n",
    "confusion_matrix(severe_toxic_labels, predictions)"
   ]
  },
  {
   "cell_type": "code",
   "execution_count": 35,
   "metadata": {
    "collapsed": true
   },
   "outputs": [],
   "source": [
    "severe_toxic_test = clf.predict_proba(X_test)"
   ]
  },
  {
   "cell_type": "code",
   "execution_count": 36,
   "metadata": {
    "collapsed": true
   },
   "outputs": [],
   "source": [
    "test_data[\"severe_toxic\"] = pd.Series(severe_toxic_test[:,1])"
   ]
  },
  {
   "cell_type": "code",
   "execution_count": 126,
   "metadata": {},
   "outputs": [
    {
     "name": "stdout",
     "output_type": "stream",
     "text": [
      "Log Loss: 0.05159095192567949\n",
      "Accuracy: 99.0\n"
     ]
    },
    {
     "data": {
      "text/plain": [
       "array([[157976,      0],\n",
       "       [  1591,      4]])"
      ]
     },
     "execution_count": 126,
     "metadata": {},
     "output_type": "execute_result"
    }
   ],
   "source": [
    "# Predictions for severe_toxic using RF\n",
    "clf = RandomForestClassifier(n_estimators=100, max_depth=10,random_state=0)\n",
    "severe_toxic_labels = list(data[\"severe_toxic\"])\n",
    "clf.fit(X, severe_toxic_labels)\n",
    "ans_probs = clf.predict_proba(X)\n",
    "predictions = clf.predict(X)\n",
    "print(\"Log Loss: \"+str(log_loss(severe_toxic_labels, ans_probs)))\n",
    "accuracy = round(accuracy_score(severe_toxic_labels, predictions) *100,2)\n",
    "print(\"Accuracy: \"+str(accuracy))\n",
    "confusion_matrix(severe_toxic_labels, predictions)"
   ]
  },
  {
   "cell_type": "code",
   "execution_count": 37,
   "metadata": {},
   "outputs": [
    {
     "name": "stderr",
     "output_type": "stream",
     "text": [
      "/home/manoj/.local/lib/python3.5/site-packages/sklearn/linear_model/logistic.py:432: FutureWarning: Default solver will be changed to 'lbfgs' in 0.22. Specify a solver to silence this warning.\n",
      "  FutureWarning)\n"
     ]
    },
    {
     "name": "stdout",
     "output_type": "stream",
     "text": [
      "Log Loss: 0.038072869566416034\n",
      "Accuracy: 98.54\n"
     ]
    },
    {
     "data": {
      "text/plain": [
       "array([[150657,    465],\n",
       "       [  1858,   6591]])"
      ]
     },
     "execution_count": 37,
     "metadata": {},
     "output_type": "execute_result"
    }
   ],
   "source": [
    "# Predictions for obscene using Logistic Regression\n",
    "clf = LogisticRegression(C=4, dual=False)\n",
    "obscene_labels = list(data[\"obscene\"])\n",
    "clf.fit(X, obscene_labels)\n",
    "ans_probs = clf.predict_proba(X)\n",
    "predictions = clf.predict(X)\n",
    "print(\"Log Loss: \"+str(log_loss(obscene_labels, ans_probs)))\n",
    "accuracy = round(accuracy_score(obscene_labels, predictions) *100,2)\n",
    "print(\"Accuracy: \"+str(accuracy))\n",
    "confusion_matrix(obscene_labels, predictions)"
   ]
  },
  {
   "cell_type": "code",
   "execution_count": 38,
   "metadata": {
    "collapsed": true
   },
   "outputs": [],
   "source": [
    "obscene_test = clf.predict_proba(X_test)"
   ]
  },
  {
   "cell_type": "code",
   "execution_count": 39,
   "metadata": {
    "collapsed": true
   },
   "outputs": [],
   "source": [
    "test_data[\"obscene\"] = pd.Series(obscene_test[:,1])"
   ]
  },
  {
   "cell_type": "code",
   "execution_count": 127,
   "metadata": {},
   "outputs": [
    {
     "name": "stdout",
     "output_type": "stream",
     "text": [
      "Log Loss: 0.19378512867958314\n",
      "Accuracy: 94.71\n"
     ]
    },
    {
     "data": {
      "text/plain": [
       "array([[151122,      0],\n",
       "       [  8449,      0]])"
      ]
     },
     "execution_count": 127,
     "metadata": {},
     "output_type": "execute_result"
    }
   ],
   "source": [
    "# Predictions for obscene using RF\n",
    "clf = RandomForestClassifier(n_estimators=100, max_depth=10,random_state=0)\n",
    "obscene_labels = list(data[\"obscene\"])\n",
    "clf.fit(X, obscene_labels)\n",
    "ans_probs = clf.predict_proba(X)\n",
    "predictions = clf.predict(X)\n",
    "print(\"Log Loss: \"+str(log_loss(obscene_labels, ans_probs)))\n",
    "accuracy = round(accuracy_score(obscene_labels, predictions) *100,2)\n",
    "print(\"Accuracy: \"+str(accuracy))\n",
    "confusion_matrix(obscene_labels, predictions)"
   ]
  },
  {
   "cell_type": "code",
   "execution_count": 40,
   "metadata": {},
   "outputs": [
    {
     "name": "stderr",
     "output_type": "stream",
     "text": [
      "/home/manoj/.local/lib/python3.5/site-packages/sklearn/linear_model/logistic.py:432: FutureWarning: Default solver will be changed to 'lbfgs' in 0.22. Specify a solver to silence this warning.\n",
      "  FutureWarning)\n"
     ]
    },
    {
     "name": "stdout",
     "output_type": "stream",
     "text": [
      "Log Loss: 0.005575788258684488\n",
      "Accuracy: 99.78\n"
     ]
    },
    {
     "data": {
      "text/plain": [
       "array([[159060,     33],\n",
       "       [   315,    163]])"
      ]
     },
     "execution_count": 40,
     "metadata": {},
     "output_type": "execute_result"
    }
   ],
   "source": [
    "# Predictions for threat using Logistic Regression\n",
    "clf = LogisticRegression(C=4, dual=False)\n",
    "threat_labels = list(data[\"threat\"])\n",
    "clf.fit(X, threat_labels)\n",
    "ans_probs = clf.predict_proba(X)\n",
    "predictions = clf.predict(X)\n",
    "print(\"Log Loss: \"+str(log_loss(threat_labels, ans_probs)))\n",
    "accuracy = round(accuracy_score(threat_labels, predictions) *100,2)\n",
    "print(\"Accuracy: \"+str(accuracy))\n",
    "confusion_matrix(threat_labels, predictions)"
   ]
  },
  {
   "cell_type": "code",
   "execution_count": 41,
   "metadata": {
    "collapsed": true
   },
   "outputs": [],
   "source": [
    "threat_test = clf.predict_proba(X_test)\n",
    "test_data[\"threat\"] = pd.Series(threat_test[:,1])"
   ]
  },
  {
   "cell_type": "code",
   "execution_count": 121,
   "metadata": {},
   "outputs": [
    {
     "name": "stdout",
     "output_type": "stream",
     "text": [
      "Log Loss: 0.014052635577133358\n",
      "Accuracy: 99.7\n"
     ]
    },
    {
     "data": {
      "text/plain": [
       "array([[159093,      0],\n",
       "       [   478,      0]])"
      ]
     },
     "execution_count": 121,
     "metadata": {},
     "output_type": "execute_result"
    }
   ],
   "source": [
    "# Predictions for threat using RF\n",
    "clf = RandomForestClassifier(n_estimators=100, max_depth=10,random_state=0)\n",
    "threat_labels = list(data[\"threat\"])\n",
    "clf.fit(X, threat_labels)\n",
    "ans_probs = clf.predict_proba(X)\n",
    "predictions = clf.predict(X)\n",
    "print(\"Log Loss: \"+str(log_loss(threat_labels, ans_probs)))\n",
    "accuracy = round(accuracy_score(threat_labels, predictions) *100,2)\n",
    "print(\"Accuracy: \"+str(accuracy))\n",
    "confusion_matrix(threat_labels, predictions)"
   ]
  },
  {
   "cell_type": "code",
   "execution_count": 42,
   "metadata": {},
   "outputs": [
    {
     "name": "stderr",
     "output_type": "stream",
     "text": [
      "/home/manoj/.local/lib/python3.5/site-packages/sklearn/linear_model/logistic.py:432: FutureWarning: Default solver will be changed to 'lbfgs' in 0.22. Specify a solver to silence this warning.\n",
      "  FutureWarning)\n"
     ]
    },
    {
     "name": "stdout",
     "output_type": "stream",
     "text": [
      "Log Loss: 0.05229479145080292\n",
      "Accuracy: 97.94\n"
     ]
    },
    {
     "data": {
      "text/plain": [
       "array([[150949,    745],\n",
       "       [  2545,   5332]])"
      ]
     },
     "execution_count": 42,
     "metadata": {},
     "output_type": "execute_result"
    }
   ],
   "source": [
    "# Predictions for insult using Logistic Regression\n",
    "clf = LogisticRegression(C=4, dual=False)\n",
    "insult_labels = list(data[\"insult\"])\n",
    "clf.fit(X, insult_labels)\n",
    "ans_probs = clf.predict_proba(X)\n",
    "predictions = clf.predict(X)\n",
    "print(\"Log Loss: \"+str(log_loss(insult_labels, ans_probs)))\n",
    "accuracy = round(accuracy_score(insult_labels, predictions) *100,2)\n",
    "print(\"Accuracy: \"+str(accuracy))\n",
    "confusion_matrix(insult_labels, predictions)"
   ]
  },
  {
   "cell_type": "code",
   "execution_count": 43,
   "metadata": {
    "collapsed": true
   },
   "outputs": [],
   "source": [
    "insult_test = clf.predict_proba(X_test)\n",
    "test_data[\"insult\"] = pd.Series(insult_test[:,1])"
   ]
  },
  {
   "cell_type": "code",
   "execution_count": 114,
   "metadata": {},
   "outputs": [
    {
     "name": "stdout",
     "output_type": "stream",
     "text": [
      "Log Loss: 0.13738832868214773\n",
      "Accuracy: 95.13\n"
     ]
    },
    {
     "data": {
      "text/plain": [
       "array([[151691,      3],\n",
       "       [  7772,    105]])"
      ]
     },
     "execution_count": 114,
     "metadata": {},
     "output_type": "execute_result"
    }
   ],
   "source": [
    "# Predictions for insult using RF\n",
    "clf = RandomForestClassifier(n_estimators=100, max_depth=10,random_state=0)\n",
    "insult_labels = list(data[\"insult\"])\n",
    "clf.fit(X, insult_labels)\n",
    "ans_probs = clf.predict_proba(X)\n",
    "predictions = clf.predict(X)\n",
    "print(\"Log Loss: \"+str(log_loss(insult_labels, ans_probs)))\n",
    "accuracy = round(accuracy_score(insult_labels, predictions) *100,2)\n",
    "print(\"Accuracy: \"+str(accuracy))\n",
    "confusion_matrix(insult_labels, predictions)"
   ]
  },
  {
   "cell_type": "code",
   "execution_count": 44,
   "metadata": {},
   "outputs": [
    {
     "name": "stderr",
     "output_type": "stream",
     "text": [
      "/home/manoj/.local/lib/python3.5/site-packages/sklearn/linear_model/logistic.py:432: FutureWarning: Default solver will be changed to 'lbfgs' in 0.22. Specify a solver to silence this warning.\n",
      "  FutureWarning)\n"
     ]
    },
    {
     "name": "stdout",
     "output_type": "stream",
     "text": [
      "Log Loss: 0.015235570257447479\n",
      "Accuracy: 99.4\n"
     ]
    },
    {
     "data": {
      "text/plain": [
       "array([[158066,    100],\n",
       "       [   863,    542]])"
      ]
     },
     "execution_count": 44,
     "metadata": {},
     "output_type": "execute_result"
    }
   ],
   "source": [
    "# Predictions for identity_hate using Logistic Regression\n",
    "clf = LogisticRegression(C=4, dual=False)\n",
    "identity_hate_labels = list(data[\"identity_hate\"])\n",
    "clf.fit(X, identity_hate_labels)\n",
    "ans_probs = clf.predict_proba(X)\n",
    "predictions = clf.predict(X)\n",
    "print(\"Log Loss: \"+str(log_loss(identity_hate_labels, ans_probs)))\n",
    "accuracy = round(accuracy_score(identity_hate_labels, predictions) *100,2)\n",
    "print(\"Accuracy: \"+str(accuracy))\n",
    "confusion_matrix(identity_hate_labels, predictions)"
   ]
  },
  {
   "cell_type": "code",
   "execution_count": 45,
   "metadata": {
    "collapsed": true
   },
   "outputs": [],
   "source": [
    "identity_hate_test = clf.predict_proba(X_test)\n",
    "test_data[\"identity_hate\"] = pd.Series(identity_hate_test[:,1])"
   ]
  },
  {
   "cell_type": "code",
   "execution_count": 115,
   "metadata": {},
   "outputs": [
    {
     "name": "stdout",
     "output_type": "stream",
     "text": [
      "Log Loss: 0.03306074294729274\n",
      "Accuracy: 99.12\n"
     ]
    },
    {
     "data": {
      "text/plain": [
       "array([[158166,      0],\n",
       "       [  1405,      0]])"
      ]
     },
     "execution_count": 115,
     "metadata": {},
     "output_type": "execute_result"
    }
   ],
   "source": [
    "# Predictions for identity_hate using RF\n",
    "clf = RandomForestClassifier(n_estimators=100, max_depth=10,random_state=0)\n",
    "identity_hate_labels = list(data[\"identity_hate\"])\n",
    "clf.fit(X, identity_hate_labels)\n",
    "ans_probs = clf.predict_proba(X)\n",
    "predictions = clf.predict(X)\n",
    "print(\"Log Loss: \"+str(log_loss(identity_hate_labels, ans_probs)))\n",
    "accuracy = round(accuracy_score(identity_hate_labels, predictions) *100,2)\n",
    "print(\"Accuracy: \"+str(accuracy))\n",
    "confusion_matrix(identity_hate_labels, predictions)"
   ]
  },
  {
   "cell_type": "code",
   "execution_count": 46,
   "metadata": {},
   "outputs": [
    {
     "data": {
      "text/html": [
       "<div>\n",
       "<style scoped>\n",
       "    .dataframe tbody tr th:only-of-type {\n",
       "        vertical-align: middle;\n",
       "    }\n",
       "\n",
       "    .dataframe tbody tr th {\n",
       "        vertical-align: top;\n",
       "    }\n",
       "\n",
       "    .dataframe thead th {\n",
       "        text-align: right;\n",
       "    }\n",
       "</style>\n",
       "<table border=\"1\" class=\"dataframe\">\n",
       "  <thead>\n",
       "    <tr style=\"text-align: right;\">\n",
       "      <th></th>\n",
       "      <th>id</th>\n",
       "      <th>comment_text</th>\n",
       "      <th>toxic</th>\n",
       "      <th>severe_toxic</th>\n",
       "      <th>obscene</th>\n",
       "      <th>threat</th>\n",
       "      <th>insult</th>\n",
       "      <th>identity_hate</th>\n",
       "    </tr>\n",
       "  </thead>\n",
       "  <tbody>\n",
       "    <tr>\n",
       "      <th>0</th>\n",
       "      <td>00001cee341fdb12</td>\n",
       "      <td>Yo bitch Ja Rule is more succesful then you'll...</td>\n",
       "      <td>0.999480</td>\n",
       "      <td>0.126176</td>\n",
       "      <td>0.998929</td>\n",
       "      <td>0.027727</td>\n",
       "      <td>0.909213</td>\n",
       "      <td>0.261744</td>\n",
       "    </tr>\n",
       "    <tr>\n",
       "      <th>1</th>\n",
       "      <td>0000247867823ef7</td>\n",
       "      <td>== From RfC == \\n\\n The title is fine as it is...</td>\n",
       "      <td>0.002716</td>\n",
       "      <td>0.001394</td>\n",
       "      <td>0.001363</td>\n",
       "      <td>0.000829</td>\n",
       "      <td>0.004238</td>\n",
       "      <td>0.001527</td>\n",
       "    </tr>\n",
       "    <tr>\n",
       "      <th>2</th>\n",
       "      <td>00013b17ad220c46</td>\n",
       "      <td>\" \\n\\n == Sources == \\n\\n * Zawe Ashton on Lap...</td>\n",
       "      <td>0.022749</td>\n",
       "      <td>0.001936</td>\n",
       "      <td>0.007597</td>\n",
       "      <td>0.000714</td>\n",
       "      <td>0.012441</td>\n",
       "      <td>0.002574</td>\n",
       "    </tr>\n",
       "    <tr>\n",
       "      <th>3</th>\n",
       "      <td>00017563c3f7919a</td>\n",
       "      <td>:If you have a look back at the source, the in...</td>\n",
       "      <td>0.001132</td>\n",
       "      <td>0.001458</td>\n",
       "      <td>0.001639</td>\n",
       "      <td>0.000448</td>\n",
       "      <td>0.002133</td>\n",
       "      <td>0.000156</td>\n",
       "    </tr>\n",
       "    <tr>\n",
       "      <th>4</th>\n",
       "      <td>00017695ad8997eb</td>\n",
       "      <td>I don't anonymously edit articles at all.</td>\n",
       "      <td>0.014192</td>\n",
       "      <td>0.001446</td>\n",
       "      <td>0.003415</td>\n",
       "      <td>0.001383</td>\n",
       "      <td>0.005583</td>\n",
       "      <td>0.001369</td>\n",
       "    </tr>\n",
       "    <tr>\n",
       "      <th>5</th>\n",
       "      <td>0001ea8717f6de06</td>\n",
       "      <td>Thank you for understanding. I think very high...</td>\n",
       "      <td>0.003721</td>\n",
       "      <td>0.000583</td>\n",
       "      <td>0.002466</td>\n",
       "      <td>0.000261</td>\n",
       "      <td>0.006695</td>\n",
       "      <td>0.000565</td>\n",
       "    </tr>\n",
       "    <tr>\n",
       "      <th>6</th>\n",
       "      <td>00024115d4cbde0f</td>\n",
       "      <td>Please do not add nonsense to Wikipedia. Such ...</td>\n",
       "      <td>0.000871</td>\n",
       "      <td>0.000504</td>\n",
       "      <td>0.001696</td>\n",
       "      <td>0.000140</td>\n",
       "      <td>0.002475</td>\n",
       "      <td>0.000354</td>\n",
       "    </tr>\n",
       "    <tr>\n",
       "      <th>7</th>\n",
       "      <td>000247e83dcc1211</td>\n",
       "      <td>:Dear god this site is horrible.</td>\n",
       "      <td>0.680124</td>\n",
       "      <td>0.002055</td>\n",
       "      <td>0.027142</td>\n",
       "      <td>0.002251</td>\n",
       "      <td>0.118053</td>\n",
       "      <td>0.002113</td>\n",
       "    </tr>\n",
       "    <tr>\n",
       "      <th>8</th>\n",
       "      <td>00025358d4737918</td>\n",
       "      <td>\" \\n Only a fool can believe in such numbers. ...</td>\n",
       "      <td>0.006696</td>\n",
       "      <td>0.001485</td>\n",
       "      <td>0.005707</td>\n",
       "      <td>0.001669</td>\n",
       "      <td>0.005790</td>\n",
       "      <td>0.000912</td>\n",
       "    </tr>\n",
       "    <tr>\n",
       "      <th>9</th>\n",
       "      <td>00026d1092fe71cc</td>\n",
       "      <td>== Double Redirects == \\n\\n When fixing double...</td>\n",
       "      <td>0.002742</td>\n",
       "      <td>0.000388</td>\n",
       "      <td>0.001861</td>\n",
       "      <td>0.000529</td>\n",
       "      <td>0.004634</td>\n",
       "      <td>0.000747</td>\n",
       "    </tr>\n",
       "    <tr>\n",
       "      <th>10</th>\n",
       "      <td>0002eadc3b301559</td>\n",
       "      <td>I think its crap that the link to roggenbier i...</td>\n",
       "      <td>0.487148</td>\n",
       "      <td>0.000380</td>\n",
       "      <td>0.183629</td>\n",
       "      <td>0.000620</td>\n",
       "      <td>0.019720</td>\n",
       "      <td>0.001804</td>\n",
       "    </tr>\n",
       "    <tr>\n",
       "      <th>11</th>\n",
       "      <td>0002f87b16116a7f</td>\n",
       "      <td>\"::: Somebody will invariably try to add Relig...</td>\n",
       "      <td>0.031828</td>\n",
       "      <td>0.001238</td>\n",
       "      <td>0.013134</td>\n",
       "      <td>0.000763</td>\n",
       "      <td>0.006462</td>\n",
       "      <td>0.002679</td>\n",
       "    </tr>\n",
       "    <tr>\n",
       "      <th>12</th>\n",
       "      <td>0003806b11932181</td>\n",
       "      <td>, 25 February 2010 (UTC) \\n\\n :::Looking it ov...</td>\n",
       "      <td>0.005598</td>\n",
       "      <td>0.001047</td>\n",
       "      <td>0.002945</td>\n",
       "      <td>0.000334</td>\n",
       "      <td>0.004299</td>\n",
       "      <td>0.000217</td>\n",
       "    </tr>\n",
       "    <tr>\n",
       "      <th>13</th>\n",
       "      <td>0003e1cccfd5a40a</td>\n",
       "      <td>\" \\n\\n It says it right there that it IS a typ...</td>\n",
       "      <td>0.003487</td>\n",
       "      <td>0.001150</td>\n",
       "      <td>0.006430</td>\n",
       "      <td>0.000437</td>\n",
       "      <td>0.002207</td>\n",
       "      <td>0.001319</td>\n",
       "    </tr>\n",
       "    <tr>\n",
       "      <th>14</th>\n",
       "      <td>00059ace3e3e9a53</td>\n",
       "      <td>\" \\n\\n == Before adding a new product to the l...</td>\n",
       "      <td>0.002655</td>\n",
       "      <td>0.000189</td>\n",
       "      <td>0.001734</td>\n",
       "      <td>0.000082</td>\n",
       "      <td>0.002576</td>\n",
       "      <td>0.000083</td>\n",
       "    </tr>\n",
       "    <tr>\n",
       "      <th>15</th>\n",
       "      <td>000634272d0d44eb</td>\n",
       "      <td>==Current Position== \\n Anyone have confirmati...</td>\n",
       "      <td>0.027731</td>\n",
       "      <td>0.001040</td>\n",
       "      <td>0.008502</td>\n",
       "      <td>0.000791</td>\n",
       "      <td>0.015574</td>\n",
       "      <td>0.001787</td>\n",
       "    </tr>\n",
       "    <tr>\n",
       "      <th>16</th>\n",
       "      <td>000663aff0fffc80</td>\n",
       "      <td>this other one from 1897</td>\n",
       "      <td>0.038352</td>\n",
       "      <td>0.004121</td>\n",
       "      <td>0.011941</td>\n",
       "      <td>0.001300</td>\n",
       "      <td>0.015546</td>\n",
       "      <td>0.003504</td>\n",
       "    </tr>\n",
       "    <tr>\n",
       "      <th>17</th>\n",
       "      <td>000689dd34e20979</td>\n",
       "      <td>== Reason for banning throwing == \\n\\n This ar...</td>\n",
       "      <td>0.013052</td>\n",
       "      <td>0.000293</td>\n",
       "      <td>0.003837</td>\n",
       "      <td>0.000294</td>\n",
       "      <td>0.006452</td>\n",
       "      <td>0.001641</td>\n",
       "    </tr>\n",
       "    <tr>\n",
       "      <th>18</th>\n",
       "      <td>000834769115370c</td>\n",
       "      <td>:: Wallamoose was changing the cited material ...</td>\n",
       "      <td>0.000846</td>\n",
       "      <td>0.000108</td>\n",
       "      <td>0.000302</td>\n",
       "      <td>0.000042</td>\n",
       "      <td>0.000120</td>\n",
       "      <td>0.000039</td>\n",
       "    </tr>\n",
       "    <tr>\n",
       "      <th>19</th>\n",
       "      <td>000844b52dee5f3f</td>\n",
       "      <td>|blocked]] from editing Wikipedia.   |</td>\n",
       "      <td>0.016888</td>\n",
       "      <td>0.000815</td>\n",
       "      <td>0.003179</td>\n",
       "      <td>0.000305</td>\n",
       "      <td>0.005099</td>\n",
       "      <td>0.000826</td>\n",
       "    </tr>\n",
       "    <tr>\n",
       "      <th>20</th>\n",
       "      <td>00084da5d4ead7aa</td>\n",
       "      <td>==Indefinitely blocked== \\n I have indefinitel...</td>\n",
       "      <td>0.014358</td>\n",
       "      <td>0.001581</td>\n",
       "      <td>0.010905</td>\n",
       "      <td>0.000570</td>\n",
       "      <td>0.006201</td>\n",
       "      <td>0.001263</td>\n",
       "    </tr>\n",
       "    <tr>\n",
       "      <th>21</th>\n",
       "      <td>00091c35fa9d0465</td>\n",
       "      <td>== Arabs are committing genocide in Iraq, but ...</td>\n",
       "      <td>0.369534</td>\n",
       "      <td>0.014927</td>\n",
       "      <td>0.059365</td>\n",
       "      <td>0.024990</td>\n",
       "      <td>0.032556</td>\n",
       "      <td>0.064127</td>\n",
       "    </tr>\n",
       "    <tr>\n",
       "      <th>22</th>\n",
       "      <td>000968ce11f5ee34</td>\n",
       "      <td>Please stop. If you continue to vandalize Wiki...</td>\n",
       "      <td>0.105425</td>\n",
       "      <td>0.001250</td>\n",
       "      <td>0.011345</td>\n",
       "      <td>0.000753</td>\n",
       "      <td>0.025691</td>\n",
       "      <td>0.029294</td>\n",
       "    </tr>\n",
       "    <tr>\n",
       "      <th>23</th>\n",
       "      <td>0009734200a85047</td>\n",
       "      <td>== Energy  == \\n\\n I have edited the introduct...</td>\n",
       "      <td>0.002653</td>\n",
       "      <td>0.001659</td>\n",
       "      <td>0.004216</td>\n",
       "      <td>0.001080</td>\n",
       "      <td>0.002888</td>\n",
       "      <td>0.001772</td>\n",
       "    </tr>\n",
       "    <tr>\n",
       "      <th>24</th>\n",
       "      <td>00097b6214686db5</td>\n",
       "      <td>:yeah, thanks for reviving the tradition of pi...</td>\n",
       "      <td>0.074434</td>\n",
       "      <td>0.000875</td>\n",
       "      <td>0.032877</td>\n",
       "      <td>0.000964</td>\n",
       "      <td>0.007374</td>\n",
       "      <td>0.004243</td>\n",
       "    </tr>\n",
       "    <tr>\n",
       "      <th>25</th>\n",
       "      <td>0009aef4bd9e1697</td>\n",
       "      <td>MLM Software,NBFC software,Non Banking Financi...</td>\n",
       "      <td>0.002650</td>\n",
       "      <td>0.000390</td>\n",
       "      <td>0.002634</td>\n",
       "      <td>0.000554</td>\n",
       "      <td>0.002642</td>\n",
       "      <td>0.001376</td>\n",
       "    </tr>\n",
       "    <tr>\n",
       "      <th>26</th>\n",
       "      <td>000a02d807ae0254</td>\n",
       "      <td>@RedSlash, cut it short. If you have sources s...</td>\n",
       "      <td>0.018841</td>\n",
       "      <td>0.001345</td>\n",
       "      <td>0.008009</td>\n",
       "      <td>0.002078</td>\n",
       "      <td>0.008078</td>\n",
       "      <td>0.003059</td>\n",
       "    </tr>\n",
       "    <tr>\n",
       "      <th>27</th>\n",
       "      <td>000a6c6d4e89b9bc</td>\n",
       "      <td>==================== \\n Deception is the way o...</td>\n",
       "      <td>0.065325</td>\n",
       "      <td>0.002753</td>\n",
       "      <td>0.013154</td>\n",
       "      <td>0.000907</td>\n",
       "      <td>0.026571</td>\n",
       "      <td>0.003499</td>\n",
       "    </tr>\n",
       "    <tr>\n",
       "      <th>28</th>\n",
       "      <td>000bafe2080bba82</td>\n",
       "      <td>. \\n\\n           Jews are not a race because y...</td>\n",
       "      <td>0.148332</td>\n",
       "      <td>0.005702</td>\n",
       "      <td>0.016909</td>\n",
       "      <td>0.008682</td>\n",
       "      <td>0.036547</td>\n",
       "      <td>0.094285</td>\n",
       "    </tr>\n",
       "    <tr>\n",
       "      <th>29</th>\n",
       "      <td>000bf0a9894b2807</td>\n",
       "      <td>:::If Ollie or others think that one list of t...</td>\n",
       "      <td>0.004317</td>\n",
       "      <td>0.001094</td>\n",
       "      <td>0.003690</td>\n",
       "      <td>0.000513</td>\n",
       "      <td>0.009344</td>\n",
       "      <td>0.001041</td>\n",
       "    </tr>\n",
       "    <tr>\n",
       "      <th>...</th>\n",
       "      <td>...</td>\n",
       "      <td>...</td>\n",
       "      <td>...</td>\n",
       "      <td>...</td>\n",
       "      <td>...</td>\n",
       "      <td>...</td>\n",
       "      <td>...</td>\n",
       "      <td>...</td>\n",
       "    </tr>\n",
       "    <tr>\n",
       "      <th>153134</th>\n",
       "      <td>fff3ae2e177b6bb3</td>\n",
       "      <td>\" \\n\\n == Same coffee shop? == \\n\\n My memory ...</td>\n",
       "      <td>0.023694</td>\n",
       "      <td>0.001307</td>\n",
       "      <td>0.007681</td>\n",
       "      <td>0.000636</td>\n",
       "      <td>0.005959</td>\n",
       "      <td>0.001828</td>\n",
       "    </tr>\n",
       "    <tr>\n",
       "      <th>153135</th>\n",
       "      <td>fff4109e837f7acc</td>\n",
       "      <td>SO many things wrong with that viewpoint - fro...</td>\n",
       "      <td>0.006888</td>\n",
       "      <td>0.001421</td>\n",
       "      <td>0.002857</td>\n",
       "      <td>0.000972</td>\n",
       "      <td>0.001435</td>\n",
       "      <td>0.002687</td>\n",
       "    </tr>\n",
       "    <tr>\n",
       "      <th>153136</th>\n",
       "      <td>fff4373a81ef9f2a</td>\n",
       "      <td>\" \\n\\n Unless we have an article for some othe...</td>\n",
       "      <td>0.003126</td>\n",
       "      <td>0.000542</td>\n",
       "      <td>0.002201</td>\n",
       "      <td>0.000398</td>\n",
       "      <td>0.002361</td>\n",
       "      <td>0.000583</td>\n",
       "    </tr>\n",
       "    <tr>\n",
       "      <th>153137</th>\n",
       "      <td>fff460574ddbcd80</td>\n",
       "      <td>Hannah and Maddie are soooooo awesome and are ...</td>\n",
       "      <td>0.023591</td>\n",
       "      <td>0.002149</td>\n",
       "      <td>0.014872</td>\n",
       "      <td>0.001261</td>\n",
       "      <td>0.011764</td>\n",
       "      <td>0.004166</td>\n",
       "    </tr>\n",
       "    <tr>\n",
       "      <th>153138</th>\n",
       "      <td>fff4fc0a1555be5c</td>\n",
       "      <td>:::no problem, I tagged it and cleaned it out....</td>\n",
       "      <td>0.010216</td>\n",
       "      <td>0.003903</td>\n",
       "      <td>0.006470</td>\n",
       "      <td>0.000499</td>\n",
       "      <td>0.005793</td>\n",
       "      <td>0.003005</td>\n",
       "    </tr>\n",
       "    <tr>\n",
       "      <th>153139</th>\n",
       "      <td>fff5b9bb944d634c</td>\n",
       "      <td>:PS I've just looked at the history of this ar...</td>\n",
       "      <td>0.009547</td>\n",
       "      <td>0.000581</td>\n",
       "      <td>0.006696</td>\n",
       "      <td>0.000101</td>\n",
       "      <td>0.005220</td>\n",
       "      <td>0.000863</td>\n",
       "    </tr>\n",
       "    <tr>\n",
       "      <th>153140</th>\n",
       "      <td>fff5c4a77fe0c05f</td>\n",
       "      <td>\"== Your edit to Maungaturoto == \\n Please don...</td>\n",
       "      <td>0.009001</td>\n",
       "      <td>0.000698</td>\n",
       "      <td>0.005073</td>\n",
       "      <td>0.000659</td>\n",
       "      <td>0.005939</td>\n",
       "      <td>0.001070</td>\n",
       "    </tr>\n",
       "    <tr>\n",
       "      <th>153141</th>\n",
       "      <td>fff5fb61bd637c82</td>\n",
       "      <td>:If you wish to contest the prod, please remov...</td>\n",
       "      <td>0.012259</td>\n",
       "      <td>0.000581</td>\n",
       "      <td>0.003388</td>\n",
       "      <td>0.000438</td>\n",
       "      <td>0.002255</td>\n",
       "      <td>0.000540</td>\n",
       "    </tr>\n",
       "    <tr>\n",
       "      <th>153142</th>\n",
       "      <td>fff69311f306df44</td>\n",
       "      <td>Balancing the two approaches to psychiatry ( b...</td>\n",
       "      <td>0.032699</td>\n",
       "      <td>0.003525</td>\n",
       "      <td>0.006682</td>\n",
       "      <td>0.001193</td>\n",
       "      <td>0.033337</td>\n",
       "      <td>0.003526</td>\n",
       "    </tr>\n",
       "    <tr>\n",
       "      <th>153143</th>\n",
       "      <td>fff6ad63666fb304</td>\n",
       "      <td>Ah, suck my balls.</td>\n",
       "      <td>0.998186</td>\n",
       "      <td>0.139381</td>\n",
       "      <td>0.978498</td>\n",
       "      <td>0.003966</td>\n",
       "      <td>0.760872</td>\n",
       "      <td>0.020510</td>\n",
       "    </tr>\n",
       "    <tr>\n",
       "      <th>153144</th>\n",
       "      <td>fff7159b3ee95618</td>\n",
       "      <td>== Your name mentioned == \\n Hi, I just though...</td>\n",
       "      <td>0.001437</td>\n",
       "      <td>0.000508</td>\n",
       "      <td>0.000993</td>\n",
       "      <td>0.000384</td>\n",
       "      <td>0.000227</td>\n",
       "      <td>0.001323</td>\n",
       "    </tr>\n",
       "    <tr>\n",
       "      <th>153145</th>\n",
       "      <td>fff718ffe5f05559</td>\n",
       "      <td>I've just discovered yet another list: List of...</td>\n",
       "      <td>0.007083</td>\n",
       "      <td>0.001058</td>\n",
       "      <td>0.003073</td>\n",
       "      <td>0.000481</td>\n",
       "      <td>0.003265</td>\n",
       "      <td>0.002692</td>\n",
       "    </tr>\n",
       "    <tr>\n",
       "      <th>153146</th>\n",
       "      <td>fff7fc22a0cdccd3</td>\n",
       "      <td>==Wikiproject Video Games assessment== \\n I do...</td>\n",
       "      <td>0.000481</td>\n",
       "      <td>0.000204</td>\n",
       "      <td>0.001435</td>\n",
       "      <td>0.000221</td>\n",
       "      <td>0.001897</td>\n",
       "      <td>0.000161</td>\n",
       "    </tr>\n",
       "    <tr>\n",
       "      <th>153147</th>\n",
       "      <td>fff83b80284d8440</td>\n",
       "      <td>::Consensus for ruining Wikipedia? I think tha...</td>\n",
       "      <td>0.018137</td>\n",
       "      <td>0.006064</td>\n",
       "      <td>0.003702</td>\n",
       "      <td>0.000520</td>\n",
       "      <td>0.016243</td>\n",
       "      <td>0.001269</td>\n",
       "    </tr>\n",
       "    <tr>\n",
       "      <th>153148</th>\n",
       "      <td>fff8ef316d0c6990</td>\n",
       "      <td>== DAP ?  == \\n\\n What's point with DAP ?! Naz...</td>\n",
       "      <td>0.013836</td>\n",
       "      <td>0.001185</td>\n",
       "      <td>0.004638</td>\n",
       "      <td>0.000635</td>\n",
       "      <td>0.011200</td>\n",
       "      <td>0.001114</td>\n",
       "    </tr>\n",
       "    <tr>\n",
       "      <th>153149</th>\n",
       "      <td>fff8f521a7dbcd47</td>\n",
       "      <td>shut down the mexican border withought looking...</td>\n",
       "      <td>0.794666</td>\n",
       "      <td>0.042443</td>\n",
       "      <td>0.038611</td>\n",
       "      <td>0.005210</td>\n",
       "      <td>0.151007</td>\n",
       "      <td>0.009796</td>\n",
       "    </tr>\n",
       "    <tr>\n",
       "      <th>153150</th>\n",
       "      <td>fff8f64043129fa2</td>\n",
       "      <td>:Jerome, I see you never got around to this…! ...</td>\n",
       "      <td>0.002517</td>\n",
       "      <td>0.000304</td>\n",
       "      <td>0.001688</td>\n",
       "      <td>0.000375</td>\n",
       "      <td>0.001621</td>\n",
       "      <td>0.000395</td>\n",
       "    </tr>\n",
       "    <tr>\n",
       "      <th>153151</th>\n",
       "      <td>fff9d70fe0722906</td>\n",
       "      <td>==Lucky bastard== \\n http://wikimediafoundatio...</td>\n",
       "      <td>0.536364</td>\n",
       "      <td>0.025375</td>\n",
       "      <td>0.300145</td>\n",
       "      <td>0.002178</td>\n",
       "      <td>0.240071</td>\n",
       "      <td>0.008592</td>\n",
       "    </tr>\n",
       "    <tr>\n",
       "      <th>153152</th>\n",
       "      <td>fff9fa508f400ee6</td>\n",
       "      <td>==WTF== \\n It's no longer a redlink.  Now what...</td>\n",
       "      <td>0.335677</td>\n",
       "      <td>0.005611</td>\n",
       "      <td>0.229540</td>\n",
       "      <td>0.002748</td>\n",
       "      <td>0.025542</td>\n",
       "      <td>0.004507</td>\n",
       "    </tr>\n",
       "    <tr>\n",
       "      <th>153153</th>\n",
       "      <td>fffa3fae1890b40a</td>\n",
       "      <td>\" \\n\\n ==\"\"Illness\"\" no shit== \\n Just for the...</td>\n",
       "      <td>0.882424</td>\n",
       "      <td>0.010827</td>\n",
       "      <td>0.624168</td>\n",
       "      <td>0.034166</td>\n",
       "      <td>0.204789</td>\n",
       "      <td>0.012218</td>\n",
       "    </tr>\n",
       "    <tr>\n",
       "      <th>153154</th>\n",
       "      <td>fffa8a11c4378854</td>\n",
       "      <td>==shame on you all!!!== \\n\\n You want to speak...</td>\n",
       "      <td>0.609863</td>\n",
       "      <td>0.007761</td>\n",
       "      <td>0.034071</td>\n",
       "      <td>0.001589</td>\n",
       "      <td>0.082793</td>\n",
       "      <td>0.091393</td>\n",
       "    </tr>\n",
       "    <tr>\n",
       "      <th>153155</th>\n",
       "      <td>fffac2a094c8e0e2</td>\n",
       "      <td>MEL GIBSON IS A NAZI BITCH WHO MAKES SHITTY MO...</td>\n",
       "      <td>0.999713</td>\n",
       "      <td>0.200720</td>\n",
       "      <td>0.998490</td>\n",
       "      <td>0.002839</td>\n",
       "      <td>0.979449</td>\n",
       "      <td>0.072498</td>\n",
       "    </tr>\n",
       "    <tr>\n",
       "      <th>153156</th>\n",
       "      <td>fffb5451268fb5ba</td>\n",
       "      <td>\" \\n\\n == Unicorn lair discovery == \\n\\n Suppo...</td>\n",
       "      <td>0.089750</td>\n",
       "      <td>0.003267</td>\n",
       "      <td>0.008452</td>\n",
       "      <td>0.000888</td>\n",
       "      <td>0.019107</td>\n",
       "      <td>0.003046</td>\n",
       "    </tr>\n",
       "    <tr>\n",
       "      <th>153157</th>\n",
       "      <td>fffc2b34bbe61c8d</td>\n",
       "      <td>:Disagree. Soviet railways need their own arti...</td>\n",
       "      <td>0.009611</td>\n",
       "      <td>0.000687</td>\n",
       "      <td>0.003173</td>\n",
       "      <td>0.000313</td>\n",
       "      <td>0.002860</td>\n",
       "      <td>0.000622</td>\n",
       "    </tr>\n",
       "    <tr>\n",
       "      <th>153158</th>\n",
       "      <td>fffc489742ffe69b</td>\n",
       "      <td>This idiot can't even use proper grammar when ...</td>\n",
       "      <td>0.859873</td>\n",
       "      <td>0.005294</td>\n",
       "      <td>0.371031</td>\n",
       "      <td>0.000918</td>\n",
       "      <td>0.871206</td>\n",
       "      <td>0.004371</td>\n",
       "    </tr>\n",
       "    <tr>\n",
       "      <th>153159</th>\n",
       "      <td>fffcd0960ee309b5</td>\n",
       "      <td>. \\n i totally agree, this stuff is nothing bu...</td>\n",
       "      <td>0.657656</td>\n",
       "      <td>0.001962</td>\n",
       "      <td>0.139021</td>\n",
       "      <td>0.001192</td>\n",
       "      <td>0.028671</td>\n",
       "      <td>0.003321</td>\n",
       "    </tr>\n",
       "    <tr>\n",
       "      <th>153160</th>\n",
       "      <td>fffd7a9a6eb32c16</td>\n",
       "      <td>== Throw from out field to home plate. == \\n\\n...</td>\n",
       "      <td>0.031867</td>\n",
       "      <td>0.002944</td>\n",
       "      <td>0.016476</td>\n",
       "      <td>0.004636</td>\n",
       "      <td>0.024167</td>\n",
       "      <td>0.011278</td>\n",
       "    </tr>\n",
       "    <tr>\n",
       "      <th>153161</th>\n",
       "      <td>fffda9e8d6fafa9e</td>\n",
       "      <td>\" \\n\\n == Okinotorishima categories == \\n\\n I ...</td>\n",
       "      <td>0.003781</td>\n",
       "      <td>0.000858</td>\n",
       "      <td>0.003966</td>\n",
       "      <td>0.000444</td>\n",
       "      <td>0.004779</td>\n",
       "      <td>0.000590</td>\n",
       "    </tr>\n",
       "    <tr>\n",
       "      <th>153162</th>\n",
       "      <td>fffe8f1340a79fc2</td>\n",
       "      <td>\" \\n\\n == \"\"One of the founding nations of the...</td>\n",
       "      <td>0.010989</td>\n",
       "      <td>0.000720</td>\n",
       "      <td>0.005461</td>\n",
       "      <td>0.001165</td>\n",
       "      <td>0.008155</td>\n",
       "      <td>0.010622</td>\n",
       "    </tr>\n",
       "    <tr>\n",
       "      <th>153163</th>\n",
       "      <td>ffffce3fb183ee80</td>\n",
       "      <td>\" \\n :::Stop already. Your bullshit is not wel...</td>\n",
       "      <td>0.995480</td>\n",
       "      <td>0.001586</td>\n",
       "      <td>0.887211</td>\n",
       "      <td>0.003488</td>\n",
       "      <td>0.481456</td>\n",
       "      <td>0.010125</td>\n",
       "    </tr>\n",
       "  </tbody>\n",
       "</table>\n",
       "<p>153164 rows × 8 columns</p>\n",
       "</div>"
      ],
      "text/plain": [
       "                      id                                       comment_text  \\\n",
       "0       00001cee341fdb12  Yo bitch Ja Rule is more succesful then you'll...   \n",
       "1       0000247867823ef7  == From RfC == \\n\\n The title is fine as it is...   \n",
       "2       00013b17ad220c46  \" \\n\\n == Sources == \\n\\n * Zawe Ashton on Lap...   \n",
       "3       00017563c3f7919a  :If you have a look back at the source, the in...   \n",
       "4       00017695ad8997eb          I don't anonymously edit articles at all.   \n",
       "5       0001ea8717f6de06  Thank you for understanding. I think very high...   \n",
       "6       00024115d4cbde0f  Please do not add nonsense to Wikipedia. Such ...   \n",
       "7       000247e83dcc1211                   :Dear god this site is horrible.   \n",
       "8       00025358d4737918  \" \\n Only a fool can believe in such numbers. ...   \n",
       "9       00026d1092fe71cc  == Double Redirects == \\n\\n When fixing double...   \n",
       "10      0002eadc3b301559  I think its crap that the link to roggenbier i...   \n",
       "11      0002f87b16116a7f  \"::: Somebody will invariably try to add Relig...   \n",
       "12      0003806b11932181  , 25 February 2010 (UTC) \\n\\n :::Looking it ov...   \n",
       "13      0003e1cccfd5a40a  \" \\n\\n It says it right there that it IS a typ...   \n",
       "14      00059ace3e3e9a53  \" \\n\\n == Before adding a new product to the l...   \n",
       "15      000634272d0d44eb  ==Current Position== \\n Anyone have confirmati...   \n",
       "16      000663aff0fffc80                           this other one from 1897   \n",
       "17      000689dd34e20979  == Reason for banning throwing == \\n\\n This ar...   \n",
       "18      000834769115370c  :: Wallamoose was changing the cited material ...   \n",
       "19      000844b52dee5f3f             |blocked]] from editing Wikipedia.   |   \n",
       "20      00084da5d4ead7aa  ==Indefinitely blocked== \\n I have indefinitel...   \n",
       "21      00091c35fa9d0465  == Arabs are committing genocide in Iraq, but ...   \n",
       "22      000968ce11f5ee34  Please stop. If you continue to vandalize Wiki...   \n",
       "23      0009734200a85047  == Energy  == \\n\\n I have edited the introduct...   \n",
       "24      00097b6214686db5  :yeah, thanks for reviving the tradition of pi...   \n",
       "25      0009aef4bd9e1697  MLM Software,NBFC software,Non Banking Financi...   \n",
       "26      000a02d807ae0254  @RedSlash, cut it short. If you have sources s...   \n",
       "27      000a6c6d4e89b9bc  ==================== \\n Deception is the way o...   \n",
       "28      000bafe2080bba82  . \\n\\n           Jews are not a race because y...   \n",
       "29      000bf0a9894b2807  :::If Ollie or others think that one list of t...   \n",
       "...                  ...                                                ...   \n",
       "153134  fff3ae2e177b6bb3  \" \\n\\n == Same coffee shop? == \\n\\n My memory ...   \n",
       "153135  fff4109e837f7acc  SO many things wrong with that viewpoint - fro...   \n",
       "153136  fff4373a81ef9f2a  \" \\n\\n Unless we have an article for some othe...   \n",
       "153137  fff460574ddbcd80  Hannah and Maddie are soooooo awesome and are ...   \n",
       "153138  fff4fc0a1555be5c  :::no problem, I tagged it and cleaned it out....   \n",
       "153139  fff5b9bb944d634c  :PS I've just looked at the history of this ar...   \n",
       "153140  fff5c4a77fe0c05f  \"== Your edit to Maungaturoto == \\n Please don...   \n",
       "153141  fff5fb61bd637c82  :If you wish to contest the prod, please remov...   \n",
       "153142  fff69311f306df44  Balancing the two approaches to psychiatry ( b...   \n",
       "153143  fff6ad63666fb304                                 Ah, suck my balls.   \n",
       "153144  fff7159b3ee95618  == Your name mentioned == \\n Hi, I just though...   \n",
       "153145  fff718ffe5f05559  I've just discovered yet another list: List of...   \n",
       "153146  fff7fc22a0cdccd3  ==Wikiproject Video Games assessment== \\n I do...   \n",
       "153147  fff83b80284d8440  ::Consensus for ruining Wikipedia? I think tha...   \n",
       "153148  fff8ef316d0c6990  == DAP ?  == \\n\\n What's point with DAP ?! Naz...   \n",
       "153149  fff8f521a7dbcd47  shut down the mexican border withought looking...   \n",
       "153150  fff8f64043129fa2  :Jerome, I see you never got around to this…! ...   \n",
       "153151  fff9d70fe0722906  ==Lucky bastard== \\n http://wikimediafoundatio...   \n",
       "153152  fff9fa508f400ee6  ==WTF== \\n It's no longer a redlink.  Now what...   \n",
       "153153  fffa3fae1890b40a  \" \\n\\n ==\"\"Illness\"\" no shit== \\n Just for the...   \n",
       "153154  fffa8a11c4378854  ==shame on you all!!!== \\n\\n You want to speak...   \n",
       "153155  fffac2a094c8e0e2  MEL GIBSON IS A NAZI BITCH WHO MAKES SHITTY MO...   \n",
       "153156  fffb5451268fb5ba  \" \\n\\n == Unicorn lair discovery == \\n\\n Suppo...   \n",
       "153157  fffc2b34bbe61c8d  :Disagree. Soviet railways need their own arti...   \n",
       "153158  fffc489742ffe69b  This idiot can't even use proper grammar when ...   \n",
       "153159  fffcd0960ee309b5  . \\n i totally agree, this stuff is nothing bu...   \n",
       "153160  fffd7a9a6eb32c16  == Throw from out field to home plate. == \\n\\n...   \n",
       "153161  fffda9e8d6fafa9e  \" \\n\\n == Okinotorishima categories == \\n\\n I ...   \n",
       "153162  fffe8f1340a79fc2  \" \\n\\n == \"\"One of the founding nations of the...   \n",
       "153163  ffffce3fb183ee80  \" \\n :::Stop already. Your bullshit is not wel...   \n",
       "\n",
       "           toxic  severe_toxic   obscene    threat    insult  identity_hate  \n",
       "0       0.999480      0.126176  0.998929  0.027727  0.909213       0.261744  \n",
       "1       0.002716      0.001394  0.001363  0.000829  0.004238       0.001527  \n",
       "2       0.022749      0.001936  0.007597  0.000714  0.012441       0.002574  \n",
       "3       0.001132      0.001458  0.001639  0.000448  0.002133       0.000156  \n",
       "4       0.014192      0.001446  0.003415  0.001383  0.005583       0.001369  \n",
       "5       0.003721      0.000583  0.002466  0.000261  0.006695       0.000565  \n",
       "6       0.000871      0.000504  0.001696  0.000140  0.002475       0.000354  \n",
       "7       0.680124      0.002055  0.027142  0.002251  0.118053       0.002113  \n",
       "8       0.006696      0.001485  0.005707  0.001669  0.005790       0.000912  \n",
       "9       0.002742      0.000388  0.001861  0.000529  0.004634       0.000747  \n",
       "10      0.487148      0.000380  0.183629  0.000620  0.019720       0.001804  \n",
       "11      0.031828      0.001238  0.013134  0.000763  0.006462       0.002679  \n",
       "12      0.005598      0.001047  0.002945  0.000334  0.004299       0.000217  \n",
       "13      0.003487      0.001150  0.006430  0.000437  0.002207       0.001319  \n",
       "14      0.002655      0.000189  0.001734  0.000082  0.002576       0.000083  \n",
       "15      0.027731      0.001040  0.008502  0.000791  0.015574       0.001787  \n",
       "16      0.038352      0.004121  0.011941  0.001300  0.015546       0.003504  \n",
       "17      0.013052      0.000293  0.003837  0.000294  0.006452       0.001641  \n",
       "18      0.000846      0.000108  0.000302  0.000042  0.000120       0.000039  \n",
       "19      0.016888      0.000815  0.003179  0.000305  0.005099       0.000826  \n",
       "20      0.014358      0.001581  0.010905  0.000570  0.006201       0.001263  \n",
       "21      0.369534      0.014927  0.059365  0.024990  0.032556       0.064127  \n",
       "22      0.105425      0.001250  0.011345  0.000753  0.025691       0.029294  \n",
       "23      0.002653      0.001659  0.004216  0.001080  0.002888       0.001772  \n",
       "24      0.074434      0.000875  0.032877  0.000964  0.007374       0.004243  \n",
       "25      0.002650      0.000390  0.002634  0.000554  0.002642       0.001376  \n",
       "26      0.018841      0.001345  0.008009  0.002078  0.008078       0.003059  \n",
       "27      0.065325      0.002753  0.013154  0.000907  0.026571       0.003499  \n",
       "28      0.148332      0.005702  0.016909  0.008682  0.036547       0.094285  \n",
       "29      0.004317      0.001094  0.003690  0.000513  0.009344       0.001041  \n",
       "...          ...           ...       ...       ...       ...            ...  \n",
       "153134  0.023694      0.001307  0.007681  0.000636  0.005959       0.001828  \n",
       "153135  0.006888      0.001421  0.002857  0.000972  0.001435       0.002687  \n",
       "153136  0.003126      0.000542  0.002201  0.000398  0.002361       0.000583  \n",
       "153137  0.023591      0.002149  0.014872  0.001261  0.011764       0.004166  \n",
       "153138  0.010216      0.003903  0.006470  0.000499  0.005793       0.003005  \n",
       "153139  0.009547      0.000581  0.006696  0.000101  0.005220       0.000863  \n",
       "153140  0.009001      0.000698  0.005073  0.000659  0.005939       0.001070  \n",
       "153141  0.012259      0.000581  0.003388  0.000438  0.002255       0.000540  \n",
       "153142  0.032699      0.003525  0.006682  0.001193  0.033337       0.003526  \n",
       "153143  0.998186      0.139381  0.978498  0.003966  0.760872       0.020510  \n",
       "153144  0.001437      0.000508  0.000993  0.000384  0.000227       0.001323  \n",
       "153145  0.007083      0.001058  0.003073  0.000481  0.003265       0.002692  \n",
       "153146  0.000481      0.000204  0.001435  0.000221  0.001897       0.000161  \n",
       "153147  0.018137      0.006064  0.003702  0.000520  0.016243       0.001269  \n",
       "153148  0.013836      0.001185  0.004638  0.000635  0.011200       0.001114  \n",
       "153149  0.794666      0.042443  0.038611  0.005210  0.151007       0.009796  \n",
       "153150  0.002517      0.000304  0.001688  0.000375  0.001621       0.000395  \n",
       "153151  0.536364      0.025375  0.300145  0.002178  0.240071       0.008592  \n",
       "153152  0.335677      0.005611  0.229540  0.002748  0.025542       0.004507  \n",
       "153153  0.882424      0.010827  0.624168  0.034166  0.204789       0.012218  \n",
       "153154  0.609863      0.007761  0.034071  0.001589  0.082793       0.091393  \n",
       "153155  0.999713      0.200720  0.998490  0.002839  0.979449       0.072498  \n",
       "153156  0.089750      0.003267  0.008452  0.000888  0.019107       0.003046  \n",
       "153157  0.009611      0.000687  0.003173  0.000313  0.002860       0.000622  \n",
       "153158  0.859873      0.005294  0.371031  0.000918  0.871206       0.004371  \n",
       "153159  0.657656      0.001962  0.139021  0.001192  0.028671       0.003321  \n",
       "153160  0.031867      0.002944  0.016476  0.004636  0.024167       0.011278  \n",
       "153161  0.003781      0.000858  0.003966  0.000444  0.004779       0.000590  \n",
       "153162  0.010989      0.000720  0.005461  0.001165  0.008155       0.010622  \n",
       "153163  0.995480      0.001586  0.887211  0.003488  0.481456       0.010125  \n",
       "\n",
       "[153164 rows x 8 columns]"
      ]
     },
     "execution_count": 46,
     "metadata": {},
     "output_type": "execute_result"
    }
   ],
   "source": [
    "test_data"
   ]
  },
  {
   "cell_type": "code",
   "execution_count": 47,
   "metadata": {
    "collapsed": true
   },
   "outputs": [],
   "source": [
    "del test_data[\"comment_text\"]"
   ]
  },
  {
   "cell_type": "code",
   "execution_count": 49,
   "metadata": {},
   "outputs": [],
   "source": [
    "test_data.to_csv(\"submission_1.csv\", index=False)"
   ]
  },
  {
   "cell_type": "code",
   "execution_count": null,
   "metadata": {
    "collapsed": true
   },
   "outputs": [],
   "source": []
  }
 ],
 "metadata": {
  "kernelspec": {
   "display_name": "Python 3",
   "language": "python",
   "name": "python3"
  },
  "language_info": {
   "codemirror_mode": {
    "name": "ipython",
    "version": 3
   },
   "file_extension": ".py",
   "mimetype": "text/x-python",
   "name": "python",
   "nbconvert_exporter": "python",
   "pygments_lexer": "ipython3",
   "version": "3.5.2"
  }
 },
 "nbformat": 4,
 "nbformat_minor": 2
}
