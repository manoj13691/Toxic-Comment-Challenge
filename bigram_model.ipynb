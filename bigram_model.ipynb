{
 "cells": [
  {
   "cell_type": "code",
   "execution_count": 82,
   "metadata": {
    "collapsed": true
   },
   "outputs": [],
   "source": [
    "import pandas as pd"
   ]
  },
  {
   "cell_type": "code",
   "execution_count": 90,
   "metadata": {},
   "outputs": [
    {
     "name": "stdout",
     "output_type": "stream",
     "text": [
      "(1000, 32329)\n"
     ]
    }
   ],
   "source": [
    "data = pd.read_csv(\"final_data_1k.csv\", header=0)\n",
    "print(data.shape)"
   ]
  },
  {
   "cell_type": "code",
   "execution_count": 91,
   "metadata": {
    "collapsed": true
   },
   "outputs": [],
   "source": [
    "all_labels = [ \"toxic\", \"severe_toxic\", \"obscene\", \"threat\", \"insult\", \"identity_hate\"]\n",
    "toxic_labels = data[\"toxic\"]\n",
    "severe_toxic_labels = data[\"severe_toxic\"]\n",
    "obscene_labels = data[\"obscene\"]\n",
    "threat_labels = data[\"threat\"]\n",
    "insult_labels = data[\"insult\"]\n",
    "identity_hate_labels = data[\"identity_hate\"]"
   ]
  },
  {
   "cell_type": "code",
   "execution_count": 92,
   "metadata": {
    "collapsed": true
   },
   "outputs": [],
   "source": [
    "del data[\"toxic\"]\n",
    "del data[\"severe_toxic\"]\n",
    "del data[\"obscene\"]\n",
    "del data[\"threat\"]\n",
    "del data[\"insult\"]\n",
    "del data[\"identity_hate\"]"
   ]
  },
  {
   "cell_type": "code",
   "execution_count": 93,
   "metadata": {},
   "outputs": [
    {
     "name": "stdout",
     "output_type": "stream",
     "text": [
      "(1000, 32323)\n"
     ]
    }
   ],
   "source": [
    "print(data.shape)"
   ]
  },
  {
   "cell_type": "code",
   "execution_count": 87,
   "metadata": {
    "collapsed": true
   },
   "outputs": [],
   "source": [
    "from sklearn.ensemble import RandomForestClassifier\n",
    "from sklearn.metrics import confusion_matrix\n",
    "clf = RandomForestClassifier(max_depth=200, random_state=0)"
   ]
  },
  {
   "cell_type": "code",
   "execution_count": 102,
   "metadata": {},
   "outputs": [
    {
     "name": "stdout",
     "output_type": "stream",
     "text": [
      "Confusion matrix while predicting: toxic\n",
      "[[895   0]\n",
      " [ 15  90]]\n",
      "\n",
      "\n"
     ]
    }
   ],
   "source": [
    "clf.fit(data, toxic_labels)\n",
    "predictions = clf.predict(data)\n",
    "print(\"Confusion matrix while predicting: \"+\"toxic\")\n",
    "#print(\"Error:\",(sum(pred!=toxic_labels)/len(toxic_labels))*100)\n",
    "print(confusion_matrix(toxic_labels, predictions))\n",
    "print(\"\\n\")"
   ]
  },
  {
   "cell_type": "code",
   "execution_count": 108,
   "metadata": {},
   "outputs": [
    {
     "name": "stdout",
     "output_type": "stream",
     "text": [
      "Confusion matrix while predicting: severe_toxic\n",
      "[[991   0]\n",
      " [  2   7]]\n",
      "\n",
      "\n"
     ]
    }
   ],
   "source": [
    "clf.fit(data, severe_toxic_labels)\n",
    "predictions = clf.predict(data)\n",
    "print(\"Confusion matrix while predicting: \"+\"severe_toxic\")\n",
    "#print(\"Error:\",(sum(pred!=toxic_labels)/len(toxic_labels))*100)\n",
    "print(confusion_matrix(severe_toxic_labels, predictions))\n",
    "print(\"\\n\")"
   ]
  },
  {
   "cell_type": "code",
   "execution_count": 109,
   "metadata": {},
   "outputs": [
    {
     "name": "stdout",
     "output_type": "stream",
     "text": [
      "Confusion matrix while predicting: obscene_labels\n",
      "[[951   0]\n",
      " [  7  42]]\n",
      "\n",
      "\n"
     ]
    }
   ],
   "source": [
    "clf.fit(data, obscene_labels)\n",
    "predictions = clf.predict(data)\n",
    "print(\"Confusion matrix while predicting: \"+\"obscene_labels\")\n",
    "#print(\"Error:\",(sum(pred!=toxic_labels)/len(toxic_labels))*100)\n",
    "print(confusion_matrix(obscene_labels, predictions))\n",
    "print(\"\\n\")"
   ]
  },
  {
   "cell_type": "code",
   "execution_count": 110,
   "metadata": {},
   "outputs": [
    {
     "name": "stdout",
     "output_type": "stream",
     "text": [
      "Confusion matrix while predicting: threat\n",
      "[[996   0]\n",
      " [  1   3]]\n",
      "\n",
      "\n"
     ]
    }
   ],
   "source": [
    "clf.fit(data, threat_labels)\n",
    "predictions = clf.predict(data)\n",
    "print(\"Confusion matrix while predicting: \"+\"threat\")\n",
    "#print(\"Error:\",(sum(pred!=toxic_labels)/len(toxic_labels))*100)\n",
    "print(confusion_matrix(threat_labels, predictions))\n",
    "print(\"\\n\")"
   ]
  },
  {
   "cell_type": "code",
   "execution_count": 114,
   "metadata": {},
   "outputs": [
    {
     "name": "stdout",
     "output_type": "stream",
     "text": [
      "Confusion matrix while predicting: insult\n",
      "[[946   0]\n",
      " [  6  48]]\n",
      "\n",
      "\n"
     ]
    }
   ],
   "source": [
    "clf.fit(data, insult_labels)\n",
    "predictions = clf.predict(data)\n",
    "print(\"Confusion matrix while predicting: \"+\"insult\")\n",
    "#print(\"Error:\",(sum(pred!=toxic_labels)/len(toxic_labels))*100)\n",
    "print(confusion_matrix(insult_labels, predictions))\n",
    "print(\"\\n\")"
   ]
  },
  {
   "cell_type": "code",
   "execution_count": 115,
   "metadata": {},
   "outputs": [
    {
     "name": "stdout",
     "output_type": "stream",
     "text": [
      "Confusion matrix while predicting: identity_hate\n",
      "[[991   0]\n",
      " [  2   7]]\n",
      "\n",
      "\n"
     ]
    }
   ],
   "source": [
    "clf.fit(data, identity_hate_labels)\n",
    "predictions = clf.predict(data)\n",
    "print(\"Confusion matrix while predicting: \"+\"identity_hate\")\n",
    "#print(\"Error:\",(sum(pred!=toxic_labels)/len(toxic_labels))*100)\n",
    "print(confusion_matrix(identity_hate_labels, predictions))\n",
    "print(\"\\n\")"
   ]
  },
  {
   "cell_type": "code",
   "execution_count": null,
   "metadata": {
    "collapsed": true
   },
   "outputs": [],
   "source": []
  }
 ],
 "metadata": {
  "kernelspec": {
   "display_name": "Python 3",
   "language": "python",
   "name": "python3"
  },
  "language_info": {
   "codemirror_mode": {
    "name": "ipython",
    "version": 3
   },
   "file_extension": ".py",
   "mimetype": "text/x-python",
   "name": "python",
   "nbconvert_exporter": "python",
   "pygments_lexer": "ipython3",
   "version": "3.5.2"
  }
 },
 "nbformat": 4,
 "nbformat_minor": 2
}
