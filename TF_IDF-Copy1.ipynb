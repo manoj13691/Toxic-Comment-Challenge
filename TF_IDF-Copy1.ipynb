{
 "cells": [
  {
   "cell_type": "raw",
   "metadata": {
    "collapsed": true
   },
   "source": [
    "import pandas as pd\n",
    "from sklearn.metrics import log_loss\n",
    "from sklearn.ensemble import RandomForestClassifier\n",
    "from sklearn.metrics import confusion_matrix, accuracy_score\n",
    "from sklearn.linear_model import LogisticRegression\n",
    "train_file = \"train.csv\"\n",
    "test_file =` \"test.csv\""
   ]
  },
  {
   "cell_type": "code",
   "execution_count": 2,
   "metadata": {},
   "outputs": [
    {
     "data": {
      "text/html": [
       "<div>\n",
       "<style scoped>\n",
       "    .dataframe tbody tr th:only-of-type {\n",
       "        vertical-align: middle;\n",
       "    }\n",
       "\n",
       "    .dataframe tbody tr th {\n",
       "        vertical-align: top;\n",
       "    }\n",
       "\n",
       "    .dataframe thead th {\n",
       "        text-align: right;\n",
       "    }\n",
       "</style>\n",
       "<table border=\"1\" class=\"dataframe\">\n",
       "  <thead>\n",
       "    <tr style=\"text-align: right;\">\n",
       "      <th></th>\n",
       "      <th>id</th>\n",
       "      <th>comment_text</th>\n",
       "      <th>toxic</th>\n",
       "      <th>severe_toxic</th>\n",
       "      <th>obscene</th>\n",
       "      <th>threat</th>\n",
       "      <th>insult</th>\n",
       "      <th>identity_hate</th>\n",
       "    </tr>\n",
       "  </thead>\n",
       "  <tbody>\n",
       "    <tr>\n",
       "      <th>0</th>\n",
       "      <td>0000997932d777bf</td>\n",
       "      <td>Explanation\\nWhy the edits made under my usern...</td>\n",
       "      <td>0</td>\n",
       "      <td>0</td>\n",
       "      <td>0</td>\n",
       "      <td>0</td>\n",
       "      <td>0</td>\n",
       "      <td>0</td>\n",
       "    </tr>\n",
       "    <tr>\n",
       "      <th>1</th>\n",
       "      <td>000103f0d9cfb60f</td>\n",
       "      <td>D'aww! He matches this background colour I'm s...</td>\n",
       "      <td>0</td>\n",
       "      <td>0</td>\n",
       "      <td>0</td>\n",
       "      <td>0</td>\n",
       "      <td>0</td>\n",
       "      <td>0</td>\n",
       "    </tr>\n",
       "    <tr>\n",
       "      <th>2</th>\n",
       "      <td>000113f07ec002fd</td>\n",
       "      <td>Hey man, I'm really not trying to edit war. It...</td>\n",
       "      <td>0</td>\n",
       "      <td>0</td>\n",
       "      <td>0</td>\n",
       "      <td>0</td>\n",
       "      <td>0</td>\n",
       "      <td>0</td>\n",
       "    </tr>\n",
       "    <tr>\n",
       "      <th>3</th>\n",
       "      <td>0001b41b1c6bb37e</td>\n",
       "      <td>\"\\nMore\\nI can't make any real suggestions on ...</td>\n",
       "      <td>0</td>\n",
       "      <td>0</td>\n",
       "      <td>0</td>\n",
       "      <td>0</td>\n",
       "      <td>0</td>\n",
       "      <td>0</td>\n",
       "    </tr>\n",
       "    <tr>\n",
       "      <th>4</th>\n",
       "      <td>0001d958c54c6e35</td>\n",
       "      <td>You, sir, are my hero. Any chance you remember...</td>\n",
       "      <td>0</td>\n",
       "      <td>0</td>\n",
       "      <td>0</td>\n",
       "      <td>0</td>\n",
       "      <td>0</td>\n",
       "      <td>0</td>\n",
       "    </tr>\n",
       "  </tbody>\n",
       "</table>\n",
       "</div>"
      ],
      "text/plain": [
       "                 id                                       comment_text  toxic  \\\n",
       "0  0000997932d777bf  Explanation\\nWhy the edits made under my usern...      0   \n",
       "1  000103f0d9cfb60f  D'aww! He matches this background colour I'm s...      0   \n",
       "2  000113f07ec002fd  Hey man, I'm really not trying to edit war. It...      0   \n",
       "3  0001b41b1c6bb37e  \"\\nMore\\nI can't make any real suggestions on ...      0   \n",
       "4  0001d958c54c6e35  You, sir, are my hero. Any chance you remember...      0   \n",
       "\n",
       "   severe_toxic  obscene  threat  insult  identity_hate  \n",
       "0             0        0       0       0              0  \n",
       "1             0        0       0       0              0  \n",
       "2             0        0       0       0              0  \n",
       "3             0        0       0       0              0  \n",
       "4             0        0       0       0              0  "
      ]
     },
     "execution_count": 2,
     "metadata": {},
     "output_type": "execute_result"
    }
   ],
   "source": [
    "data = pd.read_csv(train_file, header=0)\n",
    "data.head(5)"
   ]
  },
  {
   "cell_type": "code",
   "execution_count": 3,
   "metadata": {},
   "outputs": [
    {
     "name": "stdout",
     "output_type": "stream",
     "text": [
      "The number of features after applying TF-IDF are:\n",
      "74583\n",
      "The shape of the data is:\n",
      "(159571, 74583)\n",
      "Ten sample features are:\n"
     ]
    },
    {
     "data": {
      "text/plain": [
       "['00',\n",
       " '000',\n",
       " '0000',\n",
       " '00000',\n",
       " '000000',\n",
       " '0000z',\n",
       " '0001',\n",
       " '0003',\n",
       " '000_bucks',\n",
       " '000ft']"
      ]
     },
     "execution_count": 3,
     "metadata": {},
     "output_type": "execute_result"
    }
   ],
   "source": [
    "from sklearn.feature_extraction.text import TfidfVectorizer\n",
    "# https://stackoverflow.com/questions/27697766/understanding-min-df-and-max-df-in-scikit-countvectorizer\n",
    "# Above reference is for understanding the parameters of tf-idf.\n",
    "\n",
    "tf = TfidfVectorizer(analyzer='word',lowercase=True, min_df = 2,max_df = 0.9,\n",
    "                     strip_accents='unicode', stop_words = 'english', sublinear_tf=1)\n",
    "\n",
    "X =  tf.fit_transform(data[\"comment_text\"])\n",
    "print(\"The number of features after applying TF-IDF are:\")\n",
    "print(len(tf.get_feature_names()))\n",
    "print(\"The shape of the data is:\")\n",
    "print(X.shape)\n",
    "print(\"Ten sample features are:\")\n",
    "tf.get_feature_names()[:10]"
   ]
  },
  {
   "cell_type": "code",
   "execution_count": 93,
   "metadata": {},
   "outputs": [
    {
     "data": {
      "text/html": [
       "<div>\n",
       "<style scoped>\n",
       "    .dataframe tbody tr th:only-of-type {\n",
       "        vertical-align: middle;\n",
       "    }\n",
       "\n",
       "    .dataframe tbody tr th {\n",
       "        vertical-align: top;\n",
       "    }\n",
       "\n",
       "    .dataframe thead th {\n",
       "        text-align: right;\n",
       "    }\n",
       "</style>\n",
       "<table border=\"1\" class=\"dataframe\">\n",
       "  <thead>\n",
       "    <tr style=\"text-align: right;\">\n",
       "      <th></th>\n",
       "      <th>id</th>\n",
       "      <th>comment_text</th>\n",
       "    </tr>\n",
       "  </thead>\n",
       "  <tbody>\n",
       "    <tr>\n",
       "      <th>153159</th>\n",
       "      <td>fffcd0960ee309b5</td>\n",
       "      <td>. \\n i totally agree, this stuff is nothing bu...</td>\n",
       "    </tr>\n",
       "    <tr>\n",
       "      <th>153160</th>\n",
       "      <td>fffd7a9a6eb32c16</td>\n",
       "      <td>== Throw from out field to home plate. == \\n\\n...</td>\n",
       "    </tr>\n",
       "    <tr>\n",
       "      <th>153161</th>\n",
       "      <td>fffda9e8d6fafa9e</td>\n",
       "      <td>\" \\n\\n == Okinotorishima categories == \\n\\n I ...</td>\n",
       "    </tr>\n",
       "    <tr>\n",
       "      <th>153162</th>\n",
       "      <td>fffe8f1340a79fc2</td>\n",
       "      <td>\" \\n\\n == \"\"One of the founding nations of the...</td>\n",
       "    </tr>\n",
       "    <tr>\n",
       "      <th>153163</th>\n",
       "      <td>ffffce3fb183ee80</td>\n",
       "      <td>\" \\n :::Stop already. Your bullshit is not wel...</td>\n",
       "    </tr>\n",
       "  </tbody>\n",
       "</table>\n",
       "</div>"
      ],
      "text/plain": [
       "                      id                                       comment_text\n",
       "153159  fffcd0960ee309b5  . \\n i totally agree, this stuff is nothing bu...\n",
       "153160  fffd7a9a6eb32c16  == Throw from out field to home plate. == \\n\\n...\n",
       "153161  fffda9e8d6fafa9e  \" \\n\\n == Okinotorishima categories == \\n\\n I ...\n",
       "153162  fffe8f1340a79fc2  \" \\n\\n == \"\"One of the founding nations of the...\n",
       "153163  ffffce3fb183ee80  \" \\n :::Stop already. Your bullshit is not wel..."
      ]
     },
     "execution_count": 93,
     "metadata": {},
     "output_type": "execute_result"
    }
   ],
   "source": [
    "# Read the test file\n",
    "test_data = pd.read_csv(test_file)\n",
    "test_data.tail(5)"
   ]
  },
  {
   "cell_type": "code",
   "execution_count": 94,
   "metadata": {},
   "outputs": [
    {
     "name": "stdout",
     "output_type": "stream",
     "text": [
      "(153164, 74583)\n"
     ]
    }
   ],
   "source": [
    "X_test = tf.transform(test_data[\"comment_text\"])\n",
    "print(X_test.shape)"
   ]
  },
  {
   "cell_type": "code",
   "execution_count": 95,
   "metadata": {},
   "outputs": [
    {
     "name": "stderr",
     "output_type": "stream",
     "text": [
      "/home/manoj/.local/lib/python3.5/site-packages/sklearn/linear_model/logistic.py:432: FutureWarning: Default solver will be changed to 'lbfgs' in 0.22. Specify a solver to silence this warning.\n",
      "  FutureWarning)\n"
     ]
    },
    {
     "name": "stdout",
     "output_type": "stream",
     "text": [
      "Log Loss: 0.07795272249806547\n",
      "Accuracy: 97.05\n"
     ]
    },
    {
     "data": {
      "text/plain": [
       "array([[143589,    688],\n",
       "       [  4026,  11268]])"
      ]
     },
     "execution_count": 95,
     "metadata": {},
     "output_type": "execute_result"
    }
   ],
   "source": [
    "# Predictions for toxic  using Logistic\n",
    "clf = LogisticRegression(C=3, dual=False)\n",
    "toxic_labels = list(data[\"toxic\"])\n",
    "clf.fit(X, toxic_labels)\n",
    "ans_probs = clf.predict_proba(X)\n",
    "predictions = clf.predict(X)\n",
    "print(\"Log Loss: \"+str(log_loss(toxic_labels, ans_probs)))\n",
    "accuracy = round(accuracy_score(toxic_labels, predictions) *100,2)\n",
    "print(\"Accuracy: \"+str(accuracy))\n",
    "confusion_matrix(toxic_labels, predictions)"
   ]
  },
  {
   "cell_type": "code",
   "execution_count": 79,
   "metadata": {},
   "outputs": [
    {
     "name": "stdout",
     "output_type": "stream",
     "text": [
      "explanation 0.16556591073812327\n",
      "edits 0.11758377204966428\n",
      "username 0.1694647006622534\n",
      "hardcore 0.2432209231302952\n",
      "metallica 0.2791738288407949\n",
      "fan 0.1841914893111529\n",
      "reverted 0.1423831296890881\n",
      "weren 0.20067679562710994\n",
      "vandalisms 0.2762286662160805\n",
      "just 0.08624045494546462\n",
      "closure 0.2487963967573361\n",
      "gas 0.22059674408811816\n",
      "voted 0.21349206599775641\n",
      "new 0.11554577850801136\n",
      "york 0.1865334584329208\n",
      "dolls 0.28749813675315267\n",
      "fac 0.21480258987499007\n",
      "don 0.0914176988445954\n",
      "remove 0.1320049003396883\n",
      "template 0.15023574657404387\n",
      "talk 0.08044249121071409\n",
      "page 0.07950718847788701\n",
      "retired 0.22073355658683494\n",
      "89 0.21413990924274262\n",
      "205 0.22947222656189137\n",
      "38 0.20363420516848946\n",
      "27 0.17834616234619227\n"
     ]
    }
   ],
   "source": [
    "doc = 0\n",
    "feature_names = tf.get_feature_names()\n",
    "feature_index = X[doc,:].nonzero()[1]\n",
    "tfidf_scores = zip(feature_index, [X[doc, x] for x in feature_index])\n",
    "for w, s in [(feature_names[i], s) for (i, s) in tfidf_scores]:\n",
    "    print(w, s)"
   ]
  },
  {
   "cell_type": "code",
   "execution_count": 96,
   "metadata": {
    "collapsed": true
   },
   "outputs": [],
   "source": [
    "toxic_test = clf.predict_proba(X_test)\n",
    "\n",
    "test_data[\"toxic\"] = pd.Series(toxic_test[:,1])"
   ]
  },
  {
   "cell_type": "code",
   "execution_count": 97,
   "metadata": {},
   "outputs": [
    {
     "name": "stderr",
     "output_type": "stream",
     "text": [
      "/home/manoj/.local/lib/python3.5/site-packages/sklearn/linear_model/logistic.py:432: FutureWarning: Default solver will be changed to 'lbfgs' in 0.22. Specify a solver to silence this warning.\n",
      "  FutureWarning)\n"
     ]
    },
    {
     "name": "stdout",
     "output_type": "stream",
     "text": [
      "Log Loss: 0.018669581299302088\n",
      "Accuracy: 99.2\n"
     ]
    },
    {
     "data": {
      "text/plain": [
       "array([[157740,    236],\n",
       "       [  1045,    550]])"
      ]
     },
     "execution_count": 97,
     "metadata": {},
     "output_type": "execute_result"
    }
   ],
   "source": [
    "# Predictions for severe_toxic using Logistic Regression\n",
    "clf = LogisticRegression(C=3, dual=False)\n",
    "severe_toxic_labels = list(data[\"severe_toxic\"])\n",
    "clf.fit(X, severe_toxic_labels)\n",
    "ans_probs = clf.predict_proba(X)\n",
    "predictions = clf.predict(X)\n",
    "print(\"Log Loss: \"+str(log_loss(severe_toxic_labels, ans_probs)))\n",
    "accuracy = round(accuracy_score(severe_toxic_labels, predictions) *100,2)\n",
    "print(\"Accuracy: \"+str(accuracy))\n",
    "confusion_matrix(severe_toxic_labels, predictions)"
   ]
  },
  {
   "cell_type": "code",
   "execution_count": 98,
   "metadata": {
    "collapsed": true
   },
   "outputs": [],
   "source": [
    "severe_toxic_test = clf.predict_proba(X_test)\n",
    "\n",
    "test_data[\"severe_toxic\"] = pd.Series(severe_toxic_test[:,1])"
   ]
  },
  {
   "cell_type": "code",
   "execution_count": 99,
   "metadata": {},
   "outputs": [
    {
     "name": "stderr",
     "output_type": "stream",
     "text": [
      "/home/manoj/.local/lib/python3.5/site-packages/sklearn/linear_model/logistic.py:432: FutureWarning: Default solver will be changed to 'lbfgs' in 0.22. Specify a solver to silence this warning.\n",
      "  FutureWarning)\n"
     ]
    },
    {
     "name": "stdout",
     "output_type": "stream",
     "text": [
      "Log Loss: 0.04070735065910144\n",
      "Accuracy: 98.44\n"
     ]
    },
    {
     "data": {
      "text/plain": [
       "array([[150661,    461],\n",
       "       [  2031,   6418]])"
      ]
     },
     "execution_count": 99,
     "metadata": {},
     "output_type": "execute_result"
    }
   ],
   "source": [
    "# Predictions for obscene using Logistic Regression\n",
    "clf = LogisticRegression(C=3, dual=False)\n",
    "obscene_labels = list(data[\"obscene\"])\n",
    "clf.fit(X, obscene_labels)\n",
    "ans_probs = clf.predict_proba(X)\n",
    "predictions = clf.predict(X)\n",
    "print(\"Log Loss: \"+str(log_loss(obscene_labels, ans_probs)))\n",
    "accuracy = round(accuracy_score(obscene_labels, predictions) *100,2)\n",
    "print(\"Accuracy: \"+str(accuracy))\n",
    "confusion_matrix(obscene_labels, predictions)"
   ]
  },
  {
   "cell_type": "code",
   "execution_count": 100,
   "metadata": {
    "collapsed": true
   },
   "outputs": [],
   "source": [
    "obscene_test = clf.predict_proba(X_test)\n",
    "\n",
    "test_data[\"obscene\"] = pd.Series(obscene_test[:,1])"
   ]
  },
  {
   "cell_type": "code",
   "execution_count": 101,
   "metadata": {},
   "outputs": [
    {
     "name": "stderr",
     "output_type": "stream",
     "text": [
      "/home/manoj/.local/lib/python3.5/site-packages/sklearn/linear_model/logistic.py:432: FutureWarning: Default solver will be changed to 'lbfgs' in 0.22. Specify a solver to silence this warning.\n",
      "  FutureWarning)\n"
     ]
    },
    {
     "name": "stdout",
     "output_type": "stream",
     "text": [
      "Log Loss: 0.006377542155268138\n",
      "Accuracy: 99.76\n"
     ]
    },
    {
     "data": {
      "text/plain": [
       "array([[159058,     35],\n",
       "       [   340,    138]])"
      ]
     },
     "execution_count": 101,
     "metadata": {},
     "output_type": "execute_result"
    }
   ],
   "source": [
    "# Predictions for threat using Logistic Regression\n",
    "clf = LogisticRegression(C=3, dual=False)\n",
    "threat_labels = list(data[\"threat\"])\n",
    "clf.fit(X, threat_labels)\n",
    "ans_probs = clf.predict_proba(X)\n",
    "predictions = clf.predict(X)\n",
    "print(\"Log Loss: \"+str(log_loss(threat_labels, ans_probs)))\n",
    "accuracy = round(accuracy_score(threat_labels, predictions) *100,2)\n",
    "print(\"Accuracy: \"+str(accuracy))\n",
    "confusion_matrix(threat_labels, predictions)"
   ]
  },
  {
   "cell_type": "code",
   "execution_count": 102,
   "metadata": {
    "collapsed": true
   },
   "outputs": [],
   "source": [
    "threat_test = clf.predict_proba(X_test)\n",
    "test_data[\"threat\"] = pd.Series(threat_test[:,1])"
   ]
  },
  {
   "cell_type": "code",
   "execution_count": 103,
   "metadata": {},
   "outputs": [
    {
     "name": "stderr",
     "output_type": "stream",
     "text": [
      "/home/manoj/.local/lib/python3.5/site-packages/sklearn/linear_model/logistic.py:432: FutureWarning: Default solver will be changed to 'lbfgs' in 0.22. Specify a solver to silence this warning.\n",
      "  FutureWarning)\n"
     ]
    },
    {
     "name": "stdout",
     "output_type": "stream",
     "text": [
      "Log Loss: 0.05516407100078059\n",
      "Accuracy: 97.81\n"
     ]
    },
    {
     "data": {
      "text/plain": [
       "array([[150958,    736],\n",
       "       [  2758,   5119]])"
      ]
     },
     "execution_count": 103,
     "metadata": {},
     "output_type": "execute_result"
    }
   ],
   "source": [
    "# Predictions for insult using Logistic Regression\n",
    "clf = LogisticRegression(C=3, dual=False)\n",
    "insult_labels = list(data[\"insult\"])\n",
    "clf.fit(X, insult_labels)\n",
    "ans_probs = clf.predict_proba(X)\n",
    "predictions = clf.predict(X)\n",
    "print(\"Log Loss: \"+str(log_loss(insult_labels, ans_probs)))\n",
    "accuracy = round(accuracy_score(insult_labels, predictions) *100,2)\n",
    "print(\"Accuracy: \"+str(accuracy))\n",
    "confusion_matrix(insult_labels, predictions)"
   ]
  },
  {
   "cell_type": "code",
   "execution_count": 104,
   "metadata": {
    "collapsed": true
   },
   "outputs": [],
   "source": [
    "insult_test = clf.predict_proba(X_test)\n",
    "test_data[\"insult\"] = pd.Series(insult_test[:,1])"
   ]
  },
  {
   "cell_type": "code",
   "execution_count": 105,
   "metadata": {},
   "outputs": [
    {
     "name": "stderr",
     "output_type": "stream",
     "text": [
      "/home/manoj/.local/lib/python3.5/site-packages/sklearn/linear_model/logistic.py:432: FutureWarning: Default solver will be changed to 'lbfgs' in 0.22. Specify a solver to silence this warning.\n",
      "  FutureWarning)\n"
     ]
    },
    {
     "name": "stdout",
     "output_type": "stream",
     "text": [
      "Log Loss: 0.01667598497594871\n",
      "Accuracy: 99.35\n"
     ]
    },
    {
     "data": {
      "text/plain": [
       "array([[158066,    100],\n",
       "       [   938,    467]])"
      ]
     },
     "execution_count": 105,
     "metadata": {},
     "output_type": "execute_result"
    }
   ],
   "source": [
    "# Predictions for identity_hate using Logistic Regression\n",
    "clf = LogisticRegression(C=3, dual=False)\n",
    "identity_hate_labels = list(data[\"identity_hate\"])\n",
    "clf.fit(X, identity_hate_labels)\n",
    "ans_probs = clf.predict_proba(X)\n",
    "predictions = clf.predict(X)\n",
    "print(\"Log Loss: \"+str(log_loss(identity_hate_labels, ans_probs)))\n",
    "accuracy = round(accuracy_score(identity_hate_labels, predictions) *100,2)\n",
    "print(\"Accuracy: \"+str(accuracy))\n",
    "confusion_matrix(identity_hate_labels, predictions)"
   ]
  },
  {
   "cell_type": "code",
   "execution_count": 106,
   "metadata": {
    "collapsed": true
   },
   "outputs": [],
   "source": [
    "identity_hate_test = clf.predict_proba(X_test)\n",
    "test_data[\"identity_hate\"] = pd.Series(identity_hate_test[:,1])"
   ]
  },
  {
   "cell_type": "code",
   "execution_count": 107,
   "metadata": {
    "collapsed": true
   },
   "outputs": [],
   "source": [
    "del test_data[\"comment_text\"]"
   ]
  },
  {
   "cell_type": "code",
   "execution_count": 108,
   "metadata": {
    "collapsed": true
   },
   "outputs": [],
   "source": [
    "test_data.to_csv(\"submission_3.csv\", index=False) # 0.9755-Public 0.9763-Private"
   ]
  },
  {
   "cell_type": "code",
   "execution_count": null,
   "metadata": {
    "collapsed": true
   },
   "outputs": [],
   "source": []
  }
 ],
 "metadata": {
  "kernelspec": {
   "display_name": "Python 3",
   "language": "python",
   "name": "python3"
  },
  "language_info": {
   "codemirror_mode": {
    "name": "ipython",
    "version": 3
   },
   "file_extension": ".py",
   "mimetype": "text/x-python",
   "name": "python",
   "nbconvert_exporter": "python",
   "pygments_lexer": "ipython3",
   "version": "3.5.2"
  }
 },
 "nbformat": 4,
 "nbformat_minor": 2
}
